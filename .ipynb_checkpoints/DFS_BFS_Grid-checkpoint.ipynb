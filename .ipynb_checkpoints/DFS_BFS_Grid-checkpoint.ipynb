{
 "cells": [
  {
   "cell_type": "code",
   "execution_count": 871,
   "metadata": {},
   "outputs": [],
   "source": [
    "# Give an odd-numbered length and height otherwise the last wall will be unvisited"
   ]
  },
  {
   "cell_type": "code",
   "execution_count": 7,
   "metadata": {
    "colab": {
     "base_uri": "https://localhost:8080/"
    },
    "id": "19_ZcyMRnvAA",
    "outputId": "a3850e90-dd84-4df0-cb19-07a0f0295e1b"
   },
   "outputs": [
    {
     "name": "stdin",
     "output_type": "stream",
     "text": [
      "Enter grid_length: , Enter grid_widht:  17 17\n"
     ]
    }
   ],
   "source": [
    "grid_length , grid_height = tuple(map(int, input(\"Enter grid_length: , Enter grid_widht: \").split()))"
   ]
  },
  {
   "cell_type": "code",
   "execution_count": 9,
   "metadata": {
    "id": "KH-jvVMt5rJB"
   },
   "outputs": [],
   "source": [
    "from IPython.display import HTML\n",
    "import random"
   ]
  },
  {
   "cell_type": "code",
   "execution_count": 11,
   "metadata": {
    "id": "vepgCQgNmgpK"
   },
   "outputs": [],
   "source": [
    "grid_size = grid_length * grid_height"
   ]
  },
  {
   "cell_type": "code",
   "execution_count": 13,
   "metadata": {
    "id": "qhuTo8WWrLso"
   },
   "outputs": [],
   "source": [
    "grid = [[ 1 for _ in range(grid_length)] for _ in range(grid_height)]"
   ]
  },
  {
   "cell_type": "code",
   "execution_count": 15,
   "metadata": {
    "id": "leC9UfdyrgG0"
   },
   "outputs": [],
   "source": [
    "def display_maze(grid):\n",
    "\n",
    "\n",
    "    for i in range(grid_height):\n",
    "        for j in range(grid_length):\n",
    "          if grid[i][j] == 1:\n",
    "            print(grid[i][j], end=\" \")\n",
    "          else:\n",
    "            print(grid[i][j], end = \" \")\n",
    "        print()"
   ]
  },
  {
   "cell_type": "code",
   "execution_count": 17,
   "metadata": {
    "id": "zh7y9MUV9qvd"
   },
   "outputs": [],
   "source": [
    "from IPython.display import HTML, display\n",
    "\n",
    "def display_colored_grid(grid):\n",
    "    html = '<table style=\"border-collapse: collapse;\">'\n",
    "\n",
    "    for row in grid:\n",
    "        html += '<tr>'\n",
    "        for cell in row:\n",
    "            if cell == 1:\n",
    "                color = 'black'\n",
    "            elif cell == 0:\n",
    "                color = 'white'\n",
    "            elif cell == -1:\n",
    "                color = 'purple'\n",
    "            elif cell == 99:\n",
    "                color = 'red'\n",
    "            elif cell == 2:\n",
    "                color = 'green'\n",
    "            else:\n",
    "                color = 'blue'\n",
    "            html += f'<td style=\"width: 10px; height: 10px; background-color: {color}; border: 1px solid gray;\"></td>'\n",
    "        html += '</tr>'\n",
    "    html += '</table>'\n",
    "\n",
    "    display(HTML(html))"
   ]
  },
  {
   "cell_type": "code",
   "execution_count": 19,
   "metadata": {
    "colab": {
     "base_uri": "https://localhost:8080/",
     "height": 380
    },
    "id": "6z7O1foKrsT4",
    "outputId": "e967f123-6882-492f-f7fa-ce03fc73ebf2"
   },
   "outputs": [
    {
     "data": {
      "text/html": [
       "<table style=\"border-collapse: collapse;\"><tr><td style=\"width: 10px; height: 10px; background-color: black; border: 1px solid gray;\"></td><td style=\"width: 10px; height: 10px; background-color: black; border: 1px solid gray;\"></td><td style=\"width: 10px; height: 10px; background-color: black; border: 1px solid gray;\"></td><td style=\"width: 10px; height: 10px; background-color: black; border: 1px solid gray;\"></td><td style=\"width: 10px; height: 10px; background-color: black; border: 1px solid gray;\"></td><td style=\"width: 10px; height: 10px; background-color: black; border: 1px solid gray;\"></td><td style=\"width: 10px; height: 10px; background-color: black; border: 1px solid gray;\"></td><td style=\"width: 10px; height: 10px; background-color: black; border: 1px solid gray;\"></td><td style=\"width: 10px; height: 10px; background-color: black; border: 1px solid gray;\"></td><td style=\"width: 10px; height: 10px; background-color: black; border: 1px solid gray;\"></td><td style=\"width: 10px; height: 10px; background-color: black; border: 1px solid gray;\"></td><td style=\"width: 10px; height: 10px; background-color: black; border: 1px solid gray;\"></td><td style=\"width: 10px; height: 10px; background-color: black; border: 1px solid gray;\"></td><td style=\"width: 10px; height: 10px; background-color: black; border: 1px solid gray;\"></td><td style=\"width: 10px; height: 10px; background-color: black; border: 1px solid gray;\"></td><td style=\"width: 10px; height: 10px; background-color: black; border: 1px solid gray;\"></td><td style=\"width: 10px; height: 10px; background-color: black; border: 1px solid gray;\"></td></tr><tr><td style=\"width: 10px; height: 10px; background-color: black; border: 1px solid gray;\"></td><td style=\"width: 10px; height: 10px; background-color: black; border: 1px solid gray;\"></td><td style=\"width: 10px; height: 10px; background-color: black; border: 1px solid gray;\"></td><td style=\"width: 10px; height: 10px; background-color: black; border: 1px solid gray;\"></td><td style=\"width: 10px; height: 10px; background-color: black; border: 1px solid gray;\"></td><td style=\"width: 10px; height: 10px; background-color: black; border: 1px solid gray;\"></td><td style=\"width: 10px; height: 10px; background-color: black; border: 1px solid gray;\"></td><td style=\"width: 10px; height: 10px; background-color: black; border: 1px solid gray;\"></td><td style=\"width: 10px; height: 10px; background-color: black; border: 1px solid gray;\"></td><td style=\"width: 10px; height: 10px; background-color: black; border: 1px solid gray;\"></td><td style=\"width: 10px; height: 10px; background-color: black; border: 1px solid gray;\"></td><td style=\"width: 10px; height: 10px; background-color: black; border: 1px solid gray;\"></td><td style=\"width: 10px; height: 10px; background-color: black; border: 1px solid gray;\"></td><td style=\"width: 10px; height: 10px; background-color: black; border: 1px solid gray;\"></td><td style=\"width: 10px; height: 10px; background-color: black; border: 1px solid gray;\"></td><td style=\"width: 10px; height: 10px; background-color: black; border: 1px solid gray;\"></td><td style=\"width: 10px; height: 10px; background-color: black; border: 1px solid gray;\"></td></tr><tr><td style=\"width: 10px; height: 10px; background-color: black; border: 1px solid gray;\"></td><td style=\"width: 10px; height: 10px; background-color: black; border: 1px solid gray;\"></td><td style=\"width: 10px; height: 10px; background-color: black; border: 1px solid gray;\"></td><td style=\"width: 10px; height: 10px; background-color: black; border: 1px solid gray;\"></td><td style=\"width: 10px; height: 10px; background-color: black; border: 1px solid gray;\"></td><td style=\"width: 10px; height: 10px; background-color: black; border: 1px solid gray;\"></td><td style=\"width: 10px; height: 10px; background-color: black; border: 1px solid gray;\"></td><td style=\"width: 10px; height: 10px; background-color: black; border: 1px solid gray;\"></td><td style=\"width: 10px; height: 10px; background-color: black; border: 1px solid gray;\"></td><td style=\"width: 10px; height: 10px; background-color: black; border: 1px solid gray;\"></td><td style=\"width: 10px; height: 10px; background-color: black; border: 1px solid gray;\"></td><td style=\"width: 10px; height: 10px; background-color: black; border: 1px solid gray;\"></td><td style=\"width: 10px; height: 10px; background-color: black; border: 1px solid gray;\"></td><td style=\"width: 10px; height: 10px; background-color: black; border: 1px solid gray;\"></td><td style=\"width: 10px; height: 10px; background-color: black; border: 1px solid gray;\"></td><td style=\"width: 10px; height: 10px; background-color: black; border: 1px solid gray;\"></td><td style=\"width: 10px; height: 10px; background-color: black; border: 1px solid gray;\"></td></tr><tr><td style=\"width: 10px; height: 10px; background-color: black; border: 1px solid gray;\"></td><td style=\"width: 10px; height: 10px; background-color: black; border: 1px solid gray;\"></td><td style=\"width: 10px; height: 10px; background-color: black; border: 1px solid gray;\"></td><td style=\"width: 10px; height: 10px; background-color: black; border: 1px solid gray;\"></td><td style=\"width: 10px; height: 10px; background-color: black; border: 1px solid gray;\"></td><td style=\"width: 10px; height: 10px; background-color: black; border: 1px solid gray;\"></td><td style=\"width: 10px; height: 10px; background-color: black; border: 1px solid gray;\"></td><td style=\"width: 10px; height: 10px; background-color: black; border: 1px solid gray;\"></td><td style=\"width: 10px; height: 10px; background-color: black; border: 1px solid gray;\"></td><td style=\"width: 10px; height: 10px; background-color: black; border: 1px solid gray;\"></td><td style=\"width: 10px; height: 10px; background-color: black; border: 1px solid gray;\"></td><td style=\"width: 10px; height: 10px; background-color: black; border: 1px solid gray;\"></td><td style=\"width: 10px; height: 10px; background-color: black; border: 1px solid gray;\"></td><td style=\"width: 10px; height: 10px; background-color: black; border: 1px solid gray;\"></td><td style=\"width: 10px; height: 10px; background-color: black; border: 1px solid gray;\"></td><td style=\"width: 10px; height: 10px; background-color: black; border: 1px solid gray;\"></td><td style=\"width: 10px; height: 10px; background-color: black; border: 1px solid gray;\"></td></tr><tr><td style=\"width: 10px; height: 10px; background-color: black; border: 1px solid gray;\"></td><td style=\"width: 10px; height: 10px; background-color: black; border: 1px solid gray;\"></td><td style=\"width: 10px; height: 10px; background-color: black; border: 1px solid gray;\"></td><td style=\"width: 10px; height: 10px; background-color: black; border: 1px solid gray;\"></td><td style=\"width: 10px; height: 10px; background-color: black; border: 1px solid gray;\"></td><td style=\"width: 10px; height: 10px; background-color: black; border: 1px solid gray;\"></td><td style=\"width: 10px; height: 10px; background-color: black; border: 1px solid gray;\"></td><td style=\"width: 10px; height: 10px; background-color: black; border: 1px solid gray;\"></td><td style=\"width: 10px; height: 10px; background-color: black; border: 1px solid gray;\"></td><td style=\"width: 10px; height: 10px; background-color: black; border: 1px solid gray;\"></td><td style=\"width: 10px; height: 10px; background-color: black; border: 1px solid gray;\"></td><td style=\"width: 10px; height: 10px; background-color: black; border: 1px solid gray;\"></td><td style=\"width: 10px; height: 10px; background-color: black; border: 1px solid gray;\"></td><td style=\"width: 10px; height: 10px; background-color: black; border: 1px solid gray;\"></td><td style=\"width: 10px; height: 10px; background-color: black; border: 1px solid gray;\"></td><td style=\"width: 10px; height: 10px; background-color: black; border: 1px solid gray;\"></td><td style=\"width: 10px; height: 10px; background-color: black; border: 1px solid gray;\"></td></tr><tr><td style=\"width: 10px; height: 10px; background-color: black; border: 1px solid gray;\"></td><td style=\"width: 10px; height: 10px; background-color: black; border: 1px solid gray;\"></td><td style=\"width: 10px; height: 10px; background-color: black; border: 1px solid gray;\"></td><td style=\"width: 10px; height: 10px; background-color: black; border: 1px solid gray;\"></td><td style=\"width: 10px; height: 10px; background-color: black; border: 1px solid gray;\"></td><td style=\"width: 10px; height: 10px; background-color: black; border: 1px solid gray;\"></td><td style=\"width: 10px; height: 10px; background-color: black; border: 1px solid gray;\"></td><td style=\"width: 10px; height: 10px; background-color: black; border: 1px solid gray;\"></td><td style=\"width: 10px; height: 10px; background-color: black; border: 1px solid gray;\"></td><td style=\"width: 10px; height: 10px; background-color: black; border: 1px solid gray;\"></td><td style=\"width: 10px; height: 10px; background-color: black; border: 1px solid gray;\"></td><td style=\"width: 10px; height: 10px; background-color: black; border: 1px solid gray;\"></td><td style=\"width: 10px; height: 10px; background-color: black; border: 1px solid gray;\"></td><td style=\"width: 10px; height: 10px; background-color: black; border: 1px solid gray;\"></td><td style=\"width: 10px; height: 10px; background-color: black; border: 1px solid gray;\"></td><td style=\"width: 10px; height: 10px; background-color: black; border: 1px solid gray;\"></td><td style=\"width: 10px; height: 10px; background-color: black; border: 1px solid gray;\"></td></tr><tr><td style=\"width: 10px; height: 10px; background-color: black; border: 1px solid gray;\"></td><td style=\"width: 10px; height: 10px; background-color: black; border: 1px solid gray;\"></td><td style=\"width: 10px; height: 10px; background-color: black; border: 1px solid gray;\"></td><td style=\"width: 10px; height: 10px; background-color: black; border: 1px solid gray;\"></td><td style=\"width: 10px; height: 10px; background-color: black; border: 1px solid gray;\"></td><td style=\"width: 10px; height: 10px; background-color: black; border: 1px solid gray;\"></td><td style=\"width: 10px; height: 10px; background-color: black; border: 1px solid gray;\"></td><td style=\"width: 10px; height: 10px; background-color: black; border: 1px solid gray;\"></td><td style=\"width: 10px; height: 10px; background-color: black; border: 1px solid gray;\"></td><td style=\"width: 10px; height: 10px; background-color: black; border: 1px solid gray;\"></td><td style=\"width: 10px; height: 10px; background-color: black; border: 1px solid gray;\"></td><td style=\"width: 10px; height: 10px; background-color: black; border: 1px solid gray;\"></td><td style=\"width: 10px; height: 10px; background-color: black; border: 1px solid gray;\"></td><td style=\"width: 10px; height: 10px; background-color: black; border: 1px solid gray;\"></td><td style=\"width: 10px; height: 10px; background-color: black; border: 1px solid gray;\"></td><td style=\"width: 10px; height: 10px; background-color: black; border: 1px solid gray;\"></td><td style=\"width: 10px; height: 10px; background-color: black; border: 1px solid gray;\"></td></tr><tr><td style=\"width: 10px; height: 10px; background-color: black; border: 1px solid gray;\"></td><td style=\"width: 10px; height: 10px; background-color: black; border: 1px solid gray;\"></td><td style=\"width: 10px; height: 10px; background-color: black; border: 1px solid gray;\"></td><td style=\"width: 10px; height: 10px; background-color: black; border: 1px solid gray;\"></td><td style=\"width: 10px; height: 10px; background-color: black; border: 1px solid gray;\"></td><td style=\"width: 10px; height: 10px; background-color: black; border: 1px solid gray;\"></td><td style=\"width: 10px; height: 10px; background-color: black; border: 1px solid gray;\"></td><td style=\"width: 10px; height: 10px; background-color: black; border: 1px solid gray;\"></td><td style=\"width: 10px; height: 10px; background-color: black; border: 1px solid gray;\"></td><td style=\"width: 10px; height: 10px; background-color: black; border: 1px solid gray;\"></td><td style=\"width: 10px; height: 10px; background-color: black; border: 1px solid gray;\"></td><td style=\"width: 10px; height: 10px; background-color: black; border: 1px solid gray;\"></td><td style=\"width: 10px; height: 10px; background-color: black; border: 1px solid gray;\"></td><td style=\"width: 10px; height: 10px; background-color: black; border: 1px solid gray;\"></td><td style=\"width: 10px; height: 10px; background-color: black; border: 1px solid gray;\"></td><td style=\"width: 10px; height: 10px; background-color: black; border: 1px solid gray;\"></td><td style=\"width: 10px; height: 10px; background-color: black; border: 1px solid gray;\"></td></tr><tr><td style=\"width: 10px; height: 10px; background-color: black; border: 1px solid gray;\"></td><td style=\"width: 10px; height: 10px; background-color: black; border: 1px solid gray;\"></td><td style=\"width: 10px; height: 10px; background-color: black; border: 1px solid gray;\"></td><td style=\"width: 10px; height: 10px; background-color: black; border: 1px solid gray;\"></td><td style=\"width: 10px; height: 10px; background-color: black; border: 1px solid gray;\"></td><td style=\"width: 10px; height: 10px; background-color: black; border: 1px solid gray;\"></td><td style=\"width: 10px; height: 10px; background-color: black; border: 1px solid gray;\"></td><td style=\"width: 10px; height: 10px; background-color: black; border: 1px solid gray;\"></td><td style=\"width: 10px; height: 10px; background-color: black; border: 1px solid gray;\"></td><td style=\"width: 10px; height: 10px; background-color: black; border: 1px solid gray;\"></td><td style=\"width: 10px; height: 10px; background-color: black; border: 1px solid gray;\"></td><td style=\"width: 10px; height: 10px; background-color: black; border: 1px solid gray;\"></td><td style=\"width: 10px; height: 10px; background-color: black; border: 1px solid gray;\"></td><td style=\"width: 10px; height: 10px; background-color: black; border: 1px solid gray;\"></td><td style=\"width: 10px; height: 10px; background-color: black; border: 1px solid gray;\"></td><td style=\"width: 10px; height: 10px; background-color: black; border: 1px solid gray;\"></td><td style=\"width: 10px; height: 10px; background-color: black; border: 1px solid gray;\"></td></tr><tr><td style=\"width: 10px; height: 10px; background-color: black; border: 1px solid gray;\"></td><td style=\"width: 10px; height: 10px; background-color: black; border: 1px solid gray;\"></td><td style=\"width: 10px; height: 10px; background-color: black; border: 1px solid gray;\"></td><td style=\"width: 10px; height: 10px; background-color: black; border: 1px solid gray;\"></td><td style=\"width: 10px; height: 10px; background-color: black; border: 1px solid gray;\"></td><td style=\"width: 10px; height: 10px; background-color: black; border: 1px solid gray;\"></td><td style=\"width: 10px; height: 10px; background-color: black; border: 1px solid gray;\"></td><td style=\"width: 10px; height: 10px; background-color: black; border: 1px solid gray;\"></td><td style=\"width: 10px; height: 10px; background-color: black; border: 1px solid gray;\"></td><td style=\"width: 10px; height: 10px; background-color: black; border: 1px solid gray;\"></td><td style=\"width: 10px; height: 10px; background-color: black; border: 1px solid gray;\"></td><td style=\"width: 10px; height: 10px; background-color: black; border: 1px solid gray;\"></td><td style=\"width: 10px; height: 10px; background-color: black; border: 1px solid gray;\"></td><td style=\"width: 10px; height: 10px; background-color: black; border: 1px solid gray;\"></td><td style=\"width: 10px; height: 10px; background-color: black; border: 1px solid gray;\"></td><td style=\"width: 10px; height: 10px; background-color: black; border: 1px solid gray;\"></td><td style=\"width: 10px; height: 10px; background-color: black; border: 1px solid gray;\"></td></tr><tr><td style=\"width: 10px; height: 10px; background-color: black; border: 1px solid gray;\"></td><td style=\"width: 10px; height: 10px; background-color: black; border: 1px solid gray;\"></td><td style=\"width: 10px; height: 10px; background-color: black; border: 1px solid gray;\"></td><td style=\"width: 10px; height: 10px; background-color: black; border: 1px solid gray;\"></td><td style=\"width: 10px; height: 10px; background-color: black; border: 1px solid gray;\"></td><td style=\"width: 10px; height: 10px; background-color: black; border: 1px solid gray;\"></td><td style=\"width: 10px; height: 10px; background-color: black; border: 1px solid gray;\"></td><td style=\"width: 10px; height: 10px; background-color: black; border: 1px solid gray;\"></td><td style=\"width: 10px; height: 10px; background-color: black; border: 1px solid gray;\"></td><td style=\"width: 10px; height: 10px; background-color: black; border: 1px solid gray;\"></td><td style=\"width: 10px; height: 10px; background-color: black; border: 1px solid gray;\"></td><td style=\"width: 10px; height: 10px; background-color: black; border: 1px solid gray;\"></td><td style=\"width: 10px; height: 10px; background-color: black; border: 1px solid gray;\"></td><td style=\"width: 10px; height: 10px; background-color: black; border: 1px solid gray;\"></td><td style=\"width: 10px; height: 10px; background-color: black; border: 1px solid gray;\"></td><td style=\"width: 10px; height: 10px; background-color: black; border: 1px solid gray;\"></td><td style=\"width: 10px; height: 10px; background-color: black; border: 1px solid gray;\"></td></tr><tr><td style=\"width: 10px; height: 10px; background-color: black; border: 1px solid gray;\"></td><td style=\"width: 10px; height: 10px; background-color: black; border: 1px solid gray;\"></td><td style=\"width: 10px; height: 10px; background-color: black; border: 1px solid gray;\"></td><td style=\"width: 10px; height: 10px; background-color: black; border: 1px solid gray;\"></td><td style=\"width: 10px; height: 10px; background-color: black; border: 1px solid gray;\"></td><td style=\"width: 10px; height: 10px; background-color: black; border: 1px solid gray;\"></td><td style=\"width: 10px; height: 10px; background-color: black; border: 1px solid gray;\"></td><td style=\"width: 10px; height: 10px; background-color: black; border: 1px solid gray;\"></td><td style=\"width: 10px; height: 10px; background-color: black; border: 1px solid gray;\"></td><td style=\"width: 10px; height: 10px; background-color: black; border: 1px solid gray;\"></td><td style=\"width: 10px; height: 10px; background-color: black; border: 1px solid gray;\"></td><td style=\"width: 10px; height: 10px; background-color: black; border: 1px solid gray;\"></td><td style=\"width: 10px; height: 10px; background-color: black; border: 1px solid gray;\"></td><td style=\"width: 10px; height: 10px; background-color: black; border: 1px solid gray;\"></td><td style=\"width: 10px; height: 10px; background-color: black; border: 1px solid gray;\"></td><td style=\"width: 10px; height: 10px; background-color: black; border: 1px solid gray;\"></td><td style=\"width: 10px; height: 10px; background-color: black; border: 1px solid gray;\"></td></tr><tr><td style=\"width: 10px; height: 10px; background-color: black; border: 1px solid gray;\"></td><td style=\"width: 10px; height: 10px; background-color: black; border: 1px solid gray;\"></td><td style=\"width: 10px; height: 10px; background-color: black; border: 1px solid gray;\"></td><td style=\"width: 10px; height: 10px; background-color: black; border: 1px solid gray;\"></td><td style=\"width: 10px; height: 10px; background-color: black; border: 1px solid gray;\"></td><td style=\"width: 10px; height: 10px; background-color: black; border: 1px solid gray;\"></td><td style=\"width: 10px; height: 10px; background-color: black; border: 1px solid gray;\"></td><td style=\"width: 10px; height: 10px; background-color: black; border: 1px solid gray;\"></td><td style=\"width: 10px; height: 10px; background-color: black; border: 1px solid gray;\"></td><td style=\"width: 10px; height: 10px; background-color: black; border: 1px solid gray;\"></td><td style=\"width: 10px; height: 10px; background-color: black; border: 1px solid gray;\"></td><td style=\"width: 10px; height: 10px; background-color: black; border: 1px solid gray;\"></td><td style=\"width: 10px; height: 10px; background-color: black; border: 1px solid gray;\"></td><td style=\"width: 10px; height: 10px; background-color: black; border: 1px solid gray;\"></td><td style=\"width: 10px; height: 10px; background-color: black; border: 1px solid gray;\"></td><td style=\"width: 10px; height: 10px; background-color: black; border: 1px solid gray;\"></td><td style=\"width: 10px; height: 10px; background-color: black; border: 1px solid gray;\"></td></tr><tr><td style=\"width: 10px; height: 10px; background-color: black; border: 1px solid gray;\"></td><td style=\"width: 10px; height: 10px; background-color: black; border: 1px solid gray;\"></td><td style=\"width: 10px; height: 10px; background-color: black; border: 1px solid gray;\"></td><td style=\"width: 10px; height: 10px; background-color: black; border: 1px solid gray;\"></td><td style=\"width: 10px; height: 10px; background-color: black; border: 1px solid gray;\"></td><td style=\"width: 10px; height: 10px; background-color: black; border: 1px solid gray;\"></td><td style=\"width: 10px; height: 10px; background-color: black; border: 1px solid gray;\"></td><td style=\"width: 10px; height: 10px; background-color: black; border: 1px solid gray;\"></td><td style=\"width: 10px; height: 10px; background-color: black; border: 1px solid gray;\"></td><td style=\"width: 10px; height: 10px; background-color: black; border: 1px solid gray;\"></td><td style=\"width: 10px; height: 10px; background-color: black; border: 1px solid gray;\"></td><td style=\"width: 10px; height: 10px; background-color: black; border: 1px solid gray;\"></td><td style=\"width: 10px; height: 10px; background-color: black; border: 1px solid gray;\"></td><td style=\"width: 10px; height: 10px; background-color: black; border: 1px solid gray;\"></td><td style=\"width: 10px; height: 10px; background-color: black; border: 1px solid gray;\"></td><td style=\"width: 10px; height: 10px; background-color: black; border: 1px solid gray;\"></td><td style=\"width: 10px; height: 10px; background-color: black; border: 1px solid gray;\"></td></tr><tr><td style=\"width: 10px; height: 10px; background-color: black; border: 1px solid gray;\"></td><td style=\"width: 10px; height: 10px; background-color: black; border: 1px solid gray;\"></td><td style=\"width: 10px; height: 10px; background-color: black; border: 1px solid gray;\"></td><td style=\"width: 10px; height: 10px; background-color: black; border: 1px solid gray;\"></td><td style=\"width: 10px; height: 10px; background-color: black; border: 1px solid gray;\"></td><td style=\"width: 10px; height: 10px; background-color: black; border: 1px solid gray;\"></td><td style=\"width: 10px; height: 10px; background-color: black; border: 1px solid gray;\"></td><td style=\"width: 10px; height: 10px; background-color: black; border: 1px solid gray;\"></td><td style=\"width: 10px; height: 10px; background-color: black; border: 1px solid gray;\"></td><td style=\"width: 10px; height: 10px; background-color: black; border: 1px solid gray;\"></td><td style=\"width: 10px; height: 10px; background-color: black; border: 1px solid gray;\"></td><td style=\"width: 10px; height: 10px; background-color: black; border: 1px solid gray;\"></td><td style=\"width: 10px; height: 10px; background-color: black; border: 1px solid gray;\"></td><td style=\"width: 10px; height: 10px; background-color: black; border: 1px solid gray;\"></td><td style=\"width: 10px; height: 10px; background-color: black; border: 1px solid gray;\"></td><td style=\"width: 10px; height: 10px; background-color: black; border: 1px solid gray;\"></td><td style=\"width: 10px; height: 10px; background-color: black; border: 1px solid gray;\"></td></tr><tr><td style=\"width: 10px; height: 10px; background-color: black; border: 1px solid gray;\"></td><td style=\"width: 10px; height: 10px; background-color: black; border: 1px solid gray;\"></td><td style=\"width: 10px; height: 10px; background-color: black; border: 1px solid gray;\"></td><td style=\"width: 10px; height: 10px; background-color: black; border: 1px solid gray;\"></td><td style=\"width: 10px; height: 10px; background-color: black; border: 1px solid gray;\"></td><td style=\"width: 10px; height: 10px; background-color: black; border: 1px solid gray;\"></td><td style=\"width: 10px; height: 10px; background-color: black; border: 1px solid gray;\"></td><td style=\"width: 10px; height: 10px; background-color: black; border: 1px solid gray;\"></td><td style=\"width: 10px; height: 10px; background-color: black; border: 1px solid gray;\"></td><td style=\"width: 10px; height: 10px; background-color: black; border: 1px solid gray;\"></td><td style=\"width: 10px; height: 10px; background-color: black; border: 1px solid gray;\"></td><td style=\"width: 10px; height: 10px; background-color: black; border: 1px solid gray;\"></td><td style=\"width: 10px; height: 10px; background-color: black; border: 1px solid gray;\"></td><td style=\"width: 10px; height: 10px; background-color: black; border: 1px solid gray;\"></td><td style=\"width: 10px; height: 10px; background-color: black; border: 1px solid gray;\"></td><td style=\"width: 10px; height: 10px; background-color: black; border: 1px solid gray;\"></td><td style=\"width: 10px; height: 10px; background-color: black; border: 1px solid gray;\"></td></tr><tr><td style=\"width: 10px; height: 10px; background-color: black; border: 1px solid gray;\"></td><td style=\"width: 10px; height: 10px; background-color: black; border: 1px solid gray;\"></td><td style=\"width: 10px; height: 10px; background-color: black; border: 1px solid gray;\"></td><td style=\"width: 10px; height: 10px; background-color: black; border: 1px solid gray;\"></td><td style=\"width: 10px; height: 10px; background-color: black; border: 1px solid gray;\"></td><td style=\"width: 10px; height: 10px; background-color: black; border: 1px solid gray;\"></td><td style=\"width: 10px; height: 10px; background-color: black; border: 1px solid gray;\"></td><td style=\"width: 10px; height: 10px; background-color: black; border: 1px solid gray;\"></td><td style=\"width: 10px; height: 10px; background-color: black; border: 1px solid gray;\"></td><td style=\"width: 10px; height: 10px; background-color: black; border: 1px solid gray;\"></td><td style=\"width: 10px; height: 10px; background-color: black; border: 1px solid gray;\"></td><td style=\"width: 10px; height: 10px; background-color: black; border: 1px solid gray;\"></td><td style=\"width: 10px; height: 10px; background-color: black; border: 1px solid gray;\"></td><td style=\"width: 10px; height: 10px; background-color: black; border: 1px solid gray;\"></td><td style=\"width: 10px; height: 10px; background-color: black; border: 1px solid gray;\"></td><td style=\"width: 10px; height: 10px; background-color: black; border: 1px solid gray;\"></td><td style=\"width: 10px; height: 10px; background-color: black; border: 1px solid gray;\"></td></tr></table>"
      ],
      "text/plain": [
       "<IPython.core.display.HTML object>"
      ]
     },
     "metadata": {},
     "output_type": "display_data"
    }
   ],
   "source": [
    "display_colored_grid(grid)"
   ]
  },
  {
   "cell_type": "code",
   "execution_count": 21,
   "metadata": {},
   "outputs": [
    {
     "name": "stdout",
     "output_type": "stream",
     "text": [
      "1 1 1 1 1 1 1 1 1 1 1 1 1 1 1 1 1 \n",
      "1 1 1 1 1 1 1 1 1 1 1 1 1 1 1 1 1 \n",
      "1 1 1 1 1 1 1 1 1 1 1 1 1 1 1 1 1 \n",
      "1 1 1 1 1 1 1 1 1 1 1 1 1 1 1 1 1 \n",
      "1 1 1 1 1 1 1 1 1 1 1 1 1 1 1 1 1 \n",
      "1 1 1 1 1 1 1 1 1 1 1 1 1 1 1 1 1 \n",
      "1 1 1 1 1 1 1 1 1 1 1 1 1 1 1 1 1 \n",
      "1 1 1 1 1 1 1 1 1 1 1 1 1 1 1 1 1 \n",
      "1 1 1 1 1 1 1 1 1 1 1 1 1 1 1 1 1 \n",
      "1 1 1 1 1 1 1 1 1 1 1 1 1 1 1 1 1 \n",
      "1 1 1 1 1 1 1 1 1 1 1 1 1 1 1 1 1 \n",
      "1 1 1 1 1 1 1 1 1 1 1 1 1 1 1 1 1 \n",
      "1 1 1 1 1 1 1 1 1 1 1 1 1 1 1 1 1 \n",
      "1 1 1 1 1 1 1 1 1 1 1 1 1 1 1 1 1 \n",
      "1 1 1 1 1 1 1 1 1 1 1 1 1 1 1 1 1 \n",
      "1 1 1 1 1 1 1 1 1 1 1 1 1 1 1 1 1 \n",
      "1 1 1 1 1 1 1 1 1 1 1 1 1 1 1 1 1 \n"
     ]
    }
   ],
   "source": [
    "display_maze(grid)"
   ]
  },
  {
   "cell_type": "markdown",
   "metadata": {
    "id": "GdM2xd2f8POq"
   },
   "source": [
    "### There are many ways to create a maze in a grid of 0s and 1s"
   ]
  },
  {
   "cell_type": "markdown",
   "metadata": {
    "id": "GKQcjKtE8RNM"
   },
   "source": [
    "#### We will be using DFS"
   ]
  },
  {
   "cell_type": "code",
   "execution_count": 25,
   "metadata": {
    "id": "P6-huj4R8R5_"
   },
   "outputs": [],
   "source": [
    "directions = [(0, 2), (2, 0), (-2, 0), (0, -2)]"
   ]
  },
  {
   "cell_type": "code",
   "execution_count": 27,
   "metadata": {
    "id": "Tknd8LZs8SjU"
   },
   "outputs": [],
   "source": [
    "visited = []\n",
    "path = []"
   ]
  },
  {
   "cell_type": "code",
   "execution_count": 29,
   "metadata": {
    "id": "QH8YIBOPtvgj"
   },
   "outputs": [],
   "source": [
    "def validate_cell(cell):\n",
    "    return 0<= cell[0] < grid_length and 0<= cell[1] < grid_height and grid[cell[0]][cell[1]] == 1  "
   ]
  },
  {
   "cell_type": "code",
   "execution_count": 31,
   "metadata": {},
   "outputs": [
    {
     "data": {
      "text/plain": [
       "True"
      ]
     },
     "execution_count": 31,
     "metadata": {},
     "output_type": "execute_result"
    }
   ],
   "source": [
    "validate_cell((1, 1))"
   ]
  },
  {
   "cell_type": "code",
   "execution_count": 33,
   "metadata": {},
   "outputs": [],
   "source": [
    "maze = grid.copy()"
   ]
  },
  {
   "cell_type": "code",
   "execution_count": 35,
   "metadata": {
    "id": "6oltEl1LURDG"
   },
   "outputs": [],
   "source": [
    "def create_maze(grid, cell):\n",
    "    current_cell = cell\n",
    "    visited.append(current_cell)\n",
    "    grid[current_cell[0]][current_cell[1]] = 0\n",
    "    \n",
    "    random.shuffle(directions) \n",
    "    \n",
    "    for direction in directions:\n",
    "        new_cell = tuple(a+b for a, b in zip(direction, current_cell))\n",
    "        \n",
    "        if validate_cell(new_cell):\n",
    "            wall_cell = (current_cell[0] + direction[0] // 2, current_cell[1] + direction[1] // 2)\n",
    "            # We divide by 2 because we want to the wall to disappear, when the function is called next time with that cell, the cell becomes a path\n",
    "            grid[wall_cell[0]][wall_cell[1]] = 0\n",
    "            \n",
    "            create_maze(grid, new_cell)\n",
    "\n",
    "create_maze(maze, (0, 0))"
   ]
  },
  {
   "cell_type": "code",
   "execution_count": null,
   "metadata": {
    "id": "uQ7ajKqf4EnQ"
   },
   "outputs": [],
   "source": []
  },
  {
   "cell_type": "code",
   "execution_count": 38,
   "metadata": {
    "colab": {
     "base_uri": "https://localhost:8080/",
     "height": 263
    },
    "id": "8u14ke-K4Rrs",
    "outputId": "a475e63c-2e30-41b9-cff8-e4a5009b7998"
   },
   "outputs": [
    {
     "data": {
      "text/html": [
       "<table style=\"border-collapse: collapse;\"><tr><td style=\"width: 10px; height: 10px; background-color: white; border: 1px solid gray;\"></td><td style=\"width: 10px; height: 10px; background-color: white; border: 1px solid gray;\"></td><td style=\"width: 10px; height: 10px; background-color: white; border: 1px solid gray;\"></td><td style=\"width: 10px; height: 10px; background-color: black; border: 1px solid gray;\"></td><td style=\"width: 10px; height: 10px; background-color: white; border: 1px solid gray;\"></td><td style=\"width: 10px; height: 10px; background-color: white; border: 1px solid gray;\"></td><td style=\"width: 10px; height: 10px; background-color: white; border: 1px solid gray;\"></td><td style=\"width: 10px; height: 10px; background-color: white; border: 1px solid gray;\"></td><td style=\"width: 10px; height: 10px; background-color: white; border: 1px solid gray;\"></td><td style=\"width: 10px; height: 10px; background-color: white; border: 1px solid gray;\"></td><td style=\"width: 10px; height: 10px; background-color: white; border: 1px solid gray;\"></td><td style=\"width: 10px; height: 10px; background-color: black; border: 1px solid gray;\"></td><td style=\"width: 10px; height: 10px; background-color: white; border: 1px solid gray;\"></td><td style=\"width: 10px; height: 10px; background-color: white; border: 1px solid gray;\"></td><td style=\"width: 10px; height: 10px; background-color: white; border: 1px solid gray;\"></td><td style=\"width: 10px; height: 10px; background-color: white; border: 1px solid gray;\"></td><td style=\"width: 10px; height: 10px; background-color: white; border: 1px solid gray;\"></td></tr><tr><td style=\"width: 10px; height: 10px; background-color: black; border: 1px solid gray;\"></td><td style=\"width: 10px; height: 10px; background-color: black; border: 1px solid gray;\"></td><td style=\"width: 10px; height: 10px; background-color: white; border: 1px solid gray;\"></td><td style=\"width: 10px; height: 10px; background-color: black; border: 1px solid gray;\"></td><td style=\"width: 10px; height: 10px; background-color: black; border: 1px solid gray;\"></td><td style=\"width: 10px; height: 10px; background-color: black; border: 1px solid gray;\"></td><td style=\"width: 10px; height: 10px; background-color: white; border: 1px solid gray;\"></td><td style=\"width: 10px; height: 10px; background-color: black; border: 1px solid gray;\"></td><td style=\"width: 10px; height: 10px; background-color: black; border: 1px solid gray;\"></td><td style=\"width: 10px; height: 10px; background-color: black; border: 1px solid gray;\"></td><td style=\"width: 10px; height: 10px; background-color: white; border: 1px solid gray;\"></td><td style=\"width: 10px; height: 10px; background-color: black; border: 1px solid gray;\"></td><td style=\"width: 10px; height: 10px; background-color: white; border: 1px solid gray;\"></td><td style=\"width: 10px; height: 10px; background-color: black; border: 1px solid gray;\"></td><td style=\"width: 10px; height: 10px; background-color: black; border: 1px solid gray;\"></td><td style=\"width: 10px; height: 10px; background-color: black; border: 1px solid gray;\"></td><td style=\"width: 10px; height: 10px; background-color: white; border: 1px solid gray;\"></td></tr><tr><td style=\"width: 10px; height: 10px; background-color: white; border: 1px solid gray;\"></td><td style=\"width: 10px; height: 10px; background-color: black; border: 1px solid gray;\"></td><td style=\"width: 10px; height: 10px; background-color: white; border: 1px solid gray;\"></td><td style=\"width: 10px; height: 10px; background-color: white; border: 1px solid gray;\"></td><td style=\"width: 10px; height: 10px; background-color: white; border: 1px solid gray;\"></td><td style=\"width: 10px; height: 10px; background-color: white; border: 1px solid gray;\"></td><td style=\"width: 10px; height: 10px; background-color: white; border: 1px solid gray;\"></td><td style=\"width: 10px; height: 10px; background-color: black; border: 1px solid gray;\"></td><td style=\"width: 10px; height: 10px; background-color: white; border: 1px solid gray;\"></td><td style=\"width: 10px; height: 10px; background-color: white; border: 1px solid gray;\"></td><td style=\"width: 10px; height: 10px; background-color: white; border: 1px solid gray;\"></td><td style=\"width: 10px; height: 10px; background-color: black; border: 1px solid gray;\"></td><td style=\"width: 10px; height: 10px; background-color: white; border: 1px solid gray;\"></td><td style=\"width: 10px; height: 10px; background-color: black; border: 1px solid gray;\"></td><td style=\"width: 10px; height: 10px; background-color: white; border: 1px solid gray;\"></td><td style=\"width: 10px; height: 10px; background-color: white; border: 1px solid gray;\"></td><td style=\"width: 10px; height: 10px; background-color: white; border: 1px solid gray;\"></td></tr><tr><td style=\"width: 10px; height: 10px; background-color: white; border: 1px solid gray;\"></td><td style=\"width: 10px; height: 10px; background-color: black; border: 1px solid gray;\"></td><td style=\"width: 10px; height: 10px; background-color: black; border: 1px solid gray;\"></td><td style=\"width: 10px; height: 10px; background-color: black; border: 1px solid gray;\"></td><td style=\"width: 10px; height: 10px; background-color: black; border: 1px solid gray;\"></td><td style=\"width: 10px; height: 10px; background-color: black; border: 1px solid gray;\"></td><td style=\"width: 10px; height: 10px; background-color: black; border: 1px solid gray;\"></td><td style=\"width: 10px; height: 10px; background-color: black; border: 1px solid gray;\"></td><td style=\"width: 10px; height: 10px; background-color: white; border: 1px solid gray;\"></td><td style=\"width: 10px; height: 10px; background-color: black; border: 1px solid gray;\"></td><td style=\"width: 10px; height: 10px; background-color: black; border: 1px solid gray;\"></td><td style=\"width: 10px; height: 10px; background-color: black; border: 1px solid gray;\"></td><td style=\"width: 10px; height: 10px; background-color: white; border: 1px solid gray;\"></td><td style=\"width: 10px; height: 10px; background-color: black; border: 1px solid gray;\"></td><td style=\"width: 10px; height: 10px; background-color: white; border: 1px solid gray;\"></td><td style=\"width: 10px; height: 10px; background-color: black; border: 1px solid gray;\"></td><td style=\"width: 10px; height: 10px; background-color: black; border: 1px solid gray;\"></td></tr><tr><td style=\"width: 10px; height: 10px; background-color: white; border: 1px solid gray;\"></td><td style=\"width: 10px; height: 10px; background-color: white; border: 1px solid gray;\"></td><td style=\"width: 10px; height: 10px; background-color: white; border: 1px solid gray;\"></td><td style=\"width: 10px; height: 10px; background-color: white; border: 1px solid gray;\"></td><td style=\"width: 10px; height: 10px; background-color: white; border: 1px solid gray;\"></td><td style=\"width: 10px; height: 10px; background-color: white; border: 1px solid gray;\"></td><td style=\"width: 10px; height: 10px; background-color: white; border: 1px solid gray;\"></td><td style=\"width: 10px; height: 10px; background-color: black; border: 1px solid gray;\"></td><td style=\"width: 10px; height: 10px; background-color: white; border: 1px solid gray;\"></td><td style=\"width: 10px; height: 10px; background-color: white; border: 1px solid gray;\"></td><td style=\"width: 10px; height: 10px; background-color: white; border: 1px solid gray;\"></td><td style=\"width: 10px; height: 10px; background-color: black; border: 1px solid gray;\"></td><td style=\"width: 10px; height: 10px; background-color: white; border: 1px solid gray;\"></td><td style=\"width: 10px; height: 10px; background-color: black; border: 1px solid gray;\"></td><td style=\"width: 10px; height: 10px; background-color: white; border: 1px solid gray;\"></td><td style=\"width: 10px; height: 10px; background-color: white; border: 1px solid gray;\"></td><td style=\"width: 10px; height: 10px; background-color: white; border: 1px solid gray;\"></td></tr><tr><td style=\"width: 10px; height: 10px; background-color: white; border: 1px solid gray;\"></td><td style=\"width: 10px; height: 10px; background-color: black; border: 1px solid gray;\"></td><td style=\"width: 10px; height: 10px; background-color: white; border: 1px solid gray;\"></td><td style=\"width: 10px; height: 10px; background-color: black; border: 1px solid gray;\"></td><td style=\"width: 10px; height: 10px; background-color: black; border: 1px solid gray;\"></td><td style=\"width: 10px; height: 10px; background-color: black; border: 1px solid gray;\"></td><td style=\"width: 10px; height: 10px; background-color: white; border: 1px solid gray;\"></td><td style=\"width: 10px; height: 10px; background-color: black; border: 1px solid gray;\"></td><td style=\"width: 10px; height: 10px; background-color: black; border: 1px solid gray;\"></td><td style=\"width: 10px; height: 10px; background-color: black; border: 1px solid gray;\"></td><td style=\"width: 10px; height: 10px; background-color: white; border: 1px solid gray;\"></td><td style=\"width: 10px; height: 10px; background-color: black; border: 1px solid gray;\"></td><td style=\"width: 10px; height: 10px; background-color: black; border: 1px solid gray;\"></td><td style=\"width: 10px; height: 10px; background-color: black; border: 1px solid gray;\"></td><td style=\"width: 10px; height: 10px; background-color: black; border: 1px solid gray;\"></td><td style=\"width: 10px; height: 10px; background-color: black; border: 1px solid gray;\"></td><td style=\"width: 10px; height: 10px; background-color: white; border: 1px solid gray;\"></td></tr><tr><td style=\"width: 10px; height: 10px; background-color: white; border: 1px solid gray;\"></td><td style=\"width: 10px; height: 10px; background-color: black; border: 1px solid gray;\"></td><td style=\"width: 10px; height: 10px; background-color: white; border: 1px solid gray;\"></td><td style=\"width: 10px; height: 10px; background-color: white; border: 1px solid gray;\"></td><td style=\"width: 10px; height: 10px; background-color: white; border: 1px solid gray;\"></td><td style=\"width: 10px; height: 10px; background-color: black; border: 1px solid gray;\"></td><td style=\"width: 10px; height: 10px; background-color: white; border: 1px solid gray;\"></td><td style=\"width: 10px; height: 10px; background-color: black; border: 1px solid gray;\"></td><td style=\"width: 10px; height: 10px; background-color: white; border: 1px solid gray;\"></td><td style=\"width: 10px; height: 10px; background-color: white; border: 1px solid gray;\"></td><td style=\"width: 10px; height: 10px; background-color: white; border: 1px solid gray;\"></td><td style=\"width: 10px; height: 10px; background-color: white; border: 1px solid gray;\"></td><td style=\"width: 10px; height: 10px; background-color: white; border: 1px solid gray;\"></td><td style=\"width: 10px; height: 10px; background-color: white; border: 1px solid gray;\"></td><td style=\"width: 10px; height: 10px; background-color: white; border: 1px solid gray;\"></td><td style=\"width: 10px; height: 10px; background-color: white; border: 1px solid gray;\"></td><td style=\"width: 10px; height: 10px; background-color: white; border: 1px solid gray;\"></td></tr><tr><td style=\"width: 10px; height: 10px; background-color: white; border: 1px solid gray;\"></td><td style=\"width: 10px; height: 10px; background-color: black; border: 1px solid gray;\"></td><td style=\"width: 10px; height: 10px; background-color: black; border: 1px solid gray;\"></td><td style=\"width: 10px; height: 10px; background-color: black; border: 1px solid gray;\"></td><td style=\"width: 10px; height: 10px; background-color: white; border: 1px solid gray;\"></td><td style=\"width: 10px; height: 10px; background-color: black; border: 1px solid gray;\"></td><td style=\"width: 10px; height: 10px; background-color: white; border: 1px solid gray;\"></td><td style=\"width: 10px; height: 10px; background-color: black; border: 1px solid gray;\"></td><td style=\"width: 10px; height: 10px; background-color: white; border: 1px solid gray;\"></td><td style=\"width: 10px; height: 10px; background-color: black; border: 1px solid gray;\"></td><td style=\"width: 10px; height: 10px; background-color: black; border: 1px solid gray;\"></td><td style=\"width: 10px; height: 10px; background-color: black; border: 1px solid gray;\"></td><td style=\"width: 10px; height: 10px; background-color: black; border: 1px solid gray;\"></td><td style=\"width: 10px; height: 10px; background-color: black; border: 1px solid gray;\"></td><td style=\"width: 10px; height: 10px; background-color: black; border: 1px solid gray;\"></td><td style=\"width: 10px; height: 10px; background-color: black; border: 1px solid gray;\"></td><td style=\"width: 10px; height: 10px; background-color: black; border: 1px solid gray;\"></td></tr><tr><td style=\"width: 10px; height: 10px; background-color: white; border: 1px solid gray;\"></td><td style=\"width: 10px; height: 10px; background-color: black; border: 1px solid gray;\"></td><td style=\"width: 10px; height: 10px; background-color: white; border: 1px solid gray;\"></td><td style=\"width: 10px; height: 10px; background-color: white; border: 1px solid gray;\"></td><td style=\"width: 10px; height: 10px; background-color: white; border: 1px solid gray;\"></td><td style=\"width: 10px; height: 10px; background-color: black; border: 1px solid gray;\"></td><td style=\"width: 10px; height: 10px; background-color: white; border: 1px solid gray;\"></td><td style=\"width: 10px; height: 10px; background-color: black; border: 1px solid gray;\"></td><td style=\"width: 10px; height: 10px; background-color: white; border: 1px solid gray;\"></td><td style=\"width: 10px; height: 10px; background-color: white; border: 1px solid gray;\"></td><td style=\"width: 10px; height: 10px; background-color: white; border: 1px solid gray;\"></td><td style=\"width: 10px; height: 10px; background-color: white; border: 1px solid gray;\"></td><td style=\"width: 10px; height: 10px; background-color: white; border: 1px solid gray;\"></td><td style=\"width: 10px; height: 10px; background-color: white; border: 1px solid gray;\"></td><td style=\"width: 10px; height: 10px; background-color: white; border: 1px solid gray;\"></td><td style=\"width: 10px; height: 10px; background-color: white; border: 1px solid gray;\"></td><td style=\"width: 10px; height: 10px; background-color: white; border: 1px solid gray;\"></td></tr><tr><td style=\"width: 10px; height: 10px; background-color: white; border: 1px solid gray;\"></td><td style=\"width: 10px; height: 10px; background-color: black; border: 1px solid gray;\"></td><td style=\"width: 10px; height: 10px; background-color: white; border: 1px solid gray;\"></td><td style=\"width: 10px; height: 10px; background-color: black; border: 1px solid gray;\"></td><td style=\"width: 10px; height: 10px; background-color: black; border: 1px solid gray;\"></td><td style=\"width: 10px; height: 10px; background-color: black; border: 1px solid gray;\"></td><td style=\"width: 10px; height: 10px; background-color: black; border: 1px solid gray;\"></td><td style=\"width: 10px; height: 10px; background-color: black; border: 1px solid gray;\"></td><td style=\"width: 10px; height: 10px; background-color: black; border: 1px solid gray;\"></td><td style=\"width: 10px; height: 10px; background-color: black; border: 1px solid gray;\"></td><td style=\"width: 10px; height: 10px; background-color: black; border: 1px solid gray;\"></td><td style=\"width: 10px; height: 10px; background-color: black; border: 1px solid gray;\"></td><td style=\"width: 10px; height: 10px; background-color: black; border: 1px solid gray;\"></td><td style=\"width: 10px; height: 10px; background-color: black; border: 1px solid gray;\"></td><td style=\"width: 10px; height: 10px; background-color: black; border: 1px solid gray;\"></td><td style=\"width: 10px; height: 10px; background-color: black; border: 1px solid gray;\"></td><td style=\"width: 10px; height: 10px; background-color: white; border: 1px solid gray;\"></td></tr><tr><td style=\"width: 10px; height: 10px; background-color: white; border: 1px solid gray;\"></td><td style=\"width: 10px; height: 10px; background-color: black; border: 1px solid gray;\"></td><td style=\"width: 10px; height: 10px; background-color: white; border: 1px solid gray;\"></td><td style=\"width: 10px; height: 10px; background-color: black; border: 1px solid gray;\"></td><td style=\"width: 10px; height: 10px; background-color: white; border: 1px solid gray;\"></td><td style=\"width: 10px; height: 10px; background-color: white; border: 1px solid gray;\"></td><td style=\"width: 10px; height: 10px; background-color: white; border: 1px solid gray;\"></td><td style=\"width: 10px; height: 10px; background-color: white; border: 1px solid gray;\"></td><td style=\"width: 10px; height: 10px; background-color: white; border: 1px solid gray;\"></td><td style=\"width: 10px; height: 10px; background-color: white; border: 1px solid gray;\"></td><td style=\"width: 10px; height: 10px; background-color: white; border: 1px solid gray;\"></td><td style=\"width: 10px; height: 10px; background-color: black; border: 1px solid gray;\"></td><td style=\"width: 10px; height: 10px; background-color: white; border: 1px solid gray;\"></td><td style=\"width: 10px; height: 10px; background-color: white; border: 1px solid gray;\"></td><td style=\"width: 10px; height: 10px; background-color: white; border: 1px solid gray;\"></td><td style=\"width: 10px; height: 10px; background-color: white; border: 1px solid gray;\"></td><td style=\"width: 10px; height: 10px; background-color: white; border: 1px solid gray;\"></td></tr><tr><td style=\"width: 10px; height: 10px; background-color: black; border: 1px solid gray;\"></td><td style=\"width: 10px; height: 10px; background-color: black; border: 1px solid gray;\"></td><td style=\"width: 10px; height: 10px; background-color: white; border: 1px solid gray;\"></td><td style=\"width: 10px; height: 10px; background-color: black; border: 1px solid gray;\"></td><td style=\"width: 10px; height: 10px; background-color: white; border: 1px solid gray;\"></td><td style=\"width: 10px; height: 10px; background-color: black; border: 1px solid gray;\"></td><td style=\"width: 10px; height: 10px; background-color: white; border: 1px solid gray;\"></td><td style=\"width: 10px; height: 10px; background-color: black; border: 1px solid gray;\"></td><td style=\"width: 10px; height: 10px; background-color: black; border: 1px solid gray;\"></td><td style=\"width: 10px; height: 10px; background-color: black; border: 1px solid gray;\"></td><td style=\"width: 10px; height: 10px; background-color: white; border: 1px solid gray;\"></td><td style=\"width: 10px; height: 10px; background-color: black; border: 1px solid gray;\"></td><td style=\"width: 10px; height: 10px; background-color: white; border: 1px solid gray;\"></td><td style=\"width: 10px; height: 10px; background-color: black; border: 1px solid gray;\"></td><td style=\"width: 10px; height: 10px; background-color: black; border: 1px solid gray;\"></td><td style=\"width: 10px; height: 10px; background-color: black; border: 1px solid gray;\"></td><td style=\"width: 10px; height: 10px; background-color: black; border: 1px solid gray;\"></td></tr><tr><td style=\"width: 10px; height: 10px; background-color: white; border: 1px solid gray;\"></td><td style=\"width: 10px; height: 10px; background-color: white; border: 1px solid gray;\"></td><td style=\"width: 10px; height: 10px; background-color: white; border: 1px solid gray;\"></td><td style=\"width: 10px; height: 10px; background-color: black; border: 1px solid gray;\"></td><td style=\"width: 10px; height: 10px; background-color: white; border: 1px solid gray;\"></td><td style=\"width: 10px; height: 10px; background-color: black; border: 1px solid gray;\"></td><td style=\"width: 10px; height: 10px; background-color: white; border: 1px solid gray;\"></td><td style=\"width: 10px; height: 10px; background-color: black; border: 1px solid gray;\"></td><td style=\"width: 10px; height: 10px; background-color: white; border: 1px solid gray;\"></td><td style=\"width: 10px; height: 10px; background-color: white; border: 1px solid gray;\"></td><td style=\"width: 10px; height: 10px; background-color: white; border: 1px solid gray;\"></td><td style=\"width: 10px; height: 10px; background-color: black; border: 1px solid gray;\"></td><td style=\"width: 10px; height: 10px; background-color: white; border: 1px solid gray;\"></td><td style=\"width: 10px; height: 10px; background-color: white; border: 1px solid gray;\"></td><td style=\"width: 10px; height: 10px; background-color: white; border: 1px solid gray;\"></td><td style=\"width: 10px; height: 10px; background-color: white; border: 1px solid gray;\"></td><td style=\"width: 10px; height: 10px; background-color: white; border: 1px solid gray;\"></td></tr><tr><td style=\"width: 10px; height: 10px; background-color: white; border: 1px solid gray;\"></td><td style=\"width: 10px; height: 10px; background-color: black; border: 1px solid gray;\"></td><td style=\"width: 10px; height: 10px; background-color: white; border: 1px solid gray;\"></td><td style=\"width: 10px; height: 10px; background-color: black; border: 1px solid gray;\"></td><td style=\"width: 10px; height: 10px; background-color: white; border: 1px solid gray;\"></td><td style=\"width: 10px; height: 10px; background-color: black; border: 1px solid gray;\"></td><td style=\"width: 10px; height: 10px; background-color: white; border: 1px solid gray;\"></td><td style=\"width: 10px; height: 10px; background-color: black; border: 1px solid gray;\"></td><td style=\"width: 10px; height: 10px; background-color: white; border: 1px solid gray;\"></td><td style=\"width: 10px; height: 10px; background-color: black; border: 1px solid gray;\"></td><td style=\"width: 10px; height: 10px; background-color: black; border: 1px solid gray;\"></td><td style=\"width: 10px; height: 10px; background-color: black; border: 1px solid gray;\"></td><td style=\"width: 10px; height: 10px; background-color: black; border: 1px solid gray;\"></td><td style=\"width: 10px; height: 10px; background-color: black; border: 1px solid gray;\"></td><td style=\"width: 10px; height: 10px; background-color: black; border: 1px solid gray;\"></td><td style=\"width: 10px; height: 10px; background-color: black; border: 1px solid gray;\"></td><td style=\"width: 10px; height: 10px; background-color: white; border: 1px solid gray;\"></td></tr><tr><td style=\"width: 10px; height: 10px; background-color: white; border: 1px solid gray;\"></td><td style=\"width: 10px; height: 10px; background-color: black; border: 1px solid gray;\"></td><td style=\"width: 10px; height: 10px; background-color: white; border: 1px solid gray;\"></td><td style=\"width: 10px; height: 10px; background-color: black; border: 1px solid gray;\"></td><td style=\"width: 10px; height: 10px; background-color: white; border: 1px solid gray;\"></td><td style=\"width: 10px; height: 10px; background-color: black; border: 1px solid gray;\"></td><td style=\"width: 10px; height: 10px; background-color: white; border: 1px solid gray;\"></td><td style=\"width: 10px; height: 10px; background-color: black; border: 1px solid gray;\"></td><td style=\"width: 10px; height: 10px; background-color: white; border: 1px solid gray;\"></td><td style=\"width: 10px; height: 10px; background-color: black; border: 1px solid gray;\"></td><td style=\"width: 10px; height: 10px; background-color: white; border: 1px solid gray;\"></td><td style=\"width: 10px; height: 10px; background-color: black; border: 1px solid gray;\"></td><td style=\"width: 10px; height: 10px; background-color: white; border: 1px solid gray;\"></td><td style=\"width: 10px; height: 10px; background-color: white; border: 1px solid gray;\"></td><td style=\"width: 10px; height: 10px; background-color: white; border: 1px solid gray;\"></td><td style=\"width: 10px; height: 10px; background-color: black; border: 1px solid gray;\"></td><td style=\"width: 10px; height: 10px; background-color: white; border: 1px solid gray;\"></td></tr><tr><td style=\"width: 10px; height: 10px; background-color: white; border: 1px solid gray;\"></td><td style=\"width: 10px; height: 10px; background-color: black; border: 1px solid gray;\"></td><td style=\"width: 10px; height: 10px; background-color: black; border: 1px solid gray;\"></td><td style=\"width: 10px; height: 10px; background-color: black; border: 1px solid gray;\"></td><td style=\"width: 10px; height: 10px; background-color: white; border: 1px solid gray;\"></td><td style=\"width: 10px; height: 10px; background-color: black; border: 1px solid gray;\"></td><td style=\"width: 10px; height: 10px; background-color: white; border: 1px solid gray;\"></td><td style=\"width: 10px; height: 10px; background-color: black; border: 1px solid gray;\"></td><td style=\"width: 10px; height: 10px; background-color: white; border: 1px solid gray;\"></td><td style=\"width: 10px; height: 10px; background-color: black; border: 1px solid gray;\"></td><td style=\"width: 10px; height: 10px; background-color: white; border: 1px solid gray;\"></td><td style=\"width: 10px; height: 10px; background-color: black; border: 1px solid gray;\"></td><td style=\"width: 10px; height: 10px; background-color: white; border: 1px solid gray;\"></td><td style=\"width: 10px; height: 10px; background-color: black; border: 1px solid gray;\"></td><td style=\"width: 10px; height: 10px; background-color: white; border: 1px solid gray;\"></td><td style=\"width: 10px; height: 10px; background-color: black; border: 1px solid gray;\"></td><td style=\"width: 10px; height: 10px; background-color: white; border: 1px solid gray;\"></td></tr><tr><td style=\"width: 10px; height: 10px; background-color: white; border: 1px solid gray;\"></td><td style=\"width: 10px; height: 10px; background-color: white; border: 1px solid gray;\"></td><td style=\"width: 10px; height: 10px; background-color: white; border: 1px solid gray;\"></td><td style=\"width: 10px; height: 10px; background-color: white; border: 1px solid gray;\"></td><td style=\"width: 10px; height: 10px; background-color: white; border: 1px solid gray;\"></td><td style=\"width: 10px; height: 10px; background-color: black; border: 1px solid gray;\"></td><td style=\"width: 10px; height: 10px; background-color: white; border: 1px solid gray;\"></td><td style=\"width: 10px; height: 10px; background-color: black; border: 1px solid gray;\"></td><td style=\"width: 10px; height: 10px; background-color: white; border: 1px solid gray;\"></td><td style=\"width: 10px; height: 10px; background-color: white; border: 1px solid gray;\"></td><td style=\"width: 10px; height: 10px; background-color: white; border: 1px solid gray;\"></td><td style=\"width: 10px; height: 10px; background-color: white; border: 1px solid gray;\"></td><td style=\"width: 10px; height: 10px; background-color: white; border: 1px solid gray;\"></td><td style=\"width: 10px; height: 10px; background-color: black; border: 1px solid gray;\"></td><td style=\"width: 10px; height: 10px; background-color: white; border: 1px solid gray;\"></td><td style=\"width: 10px; height: 10px; background-color: white; border: 1px solid gray;\"></td><td style=\"width: 10px; height: 10px; background-color: white; border: 1px solid gray;\"></td></tr></table>"
      ],
      "text/plain": [
       "<IPython.core.display.HTML object>"
      ]
     },
     "metadata": {},
     "output_type": "display_data"
    }
   ],
   "source": [
    "display_colored_grid(maze)"
   ]
  },
  {
   "cell_type": "markdown",
   "metadata": {
    "id": "nXd_Uu5G527t"
   },
   "source": [
    "#### I want to see the path taken as green, the destination as red, and the paths accessed but ultimately not taken as blue"
   ]
  },
  {
   "cell_type": "code",
   "execution_count": 41,
   "metadata": {},
   "outputs": [],
   "source": [
    "random.shuffle(visited)"
   ]
  },
  {
   "cell_type": "code",
   "execution_count": 43,
   "metadata": {},
   "outputs": [
    {
     "data": {
      "text/plain": [
       "(12, 14)"
      ]
     },
     "execution_count": 43,
     "metadata": {},
     "output_type": "execute_result"
    }
   ],
   "source": [
    "visited[0]"
   ]
  },
  {
   "cell_type": "code",
   "execution_count": 45,
   "metadata": {},
   "outputs": [],
   "source": [
    "grid[visited[0][0]][visited[0][1]] = 99"
   ]
  },
  {
   "cell_type": "code",
   "execution_count": 47,
   "metadata": {},
   "outputs": [
    {
     "data": {
      "text/html": [
       "<table style=\"border-collapse: collapse;\"><tr><td style=\"width: 10px; height: 10px; background-color: white; border: 1px solid gray;\"></td><td style=\"width: 10px; height: 10px; background-color: white; border: 1px solid gray;\"></td><td style=\"width: 10px; height: 10px; background-color: white; border: 1px solid gray;\"></td><td style=\"width: 10px; height: 10px; background-color: black; border: 1px solid gray;\"></td><td style=\"width: 10px; height: 10px; background-color: white; border: 1px solid gray;\"></td><td style=\"width: 10px; height: 10px; background-color: white; border: 1px solid gray;\"></td><td style=\"width: 10px; height: 10px; background-color: white; border: 1px solid gray;\"></td><td style=\"width: 10px; height: 10px; background-color: white; border: 1px solid gray;\"></td><td style=\"width: 10px; height: 10px; background-color: white; border: 1px solid gray;\"></td><td style=\"width: 10px; height: 10px; background-color: white; border: 1px solid gray;\"></td><td style=\"width: 10px; height: 10px; background-color: white; border: 1px solid gray;\"></td><td style=\"width: 10px; height: 10px; background-color: black; border: 1px solid gray;\"></td><td style=\"width: 10px; height: 10px; background-color: white; border: 1px solid gray;\"></td><td style=\"width: 10px; height: 10px; background-color: white; border: 1px solid gray;\"></td><td style=\"width: 10px; height: 10px; background-color: white; border: 1px solid gray;\"></td><td style=\"width: 10px; height: 10px; background-color: white; border: 1px solid gray;\"></td><td style=\"width: 10px; height: 10px; background-color: white; border: 1px solid gray;\"></td></tr><tr><td style=\"width: 10px; height: 10px; background-color: black; border: 1px solid gray;\"></td><td style=\"width: 10px; height: 10px; background-color: black; border: 1px solid gray;\"></td><td style=\"width: 10px; height: 10px; background-color: white; border: 1px solid gray;\"></td><td style=\"width: 10px; height: 10px; background-color: black; border: 1px solid gray;\"></td><td style=\"width: 10px; height: 10px; background-color: black; border: 1px solid gray;\"></td><td style=\"width: 10px; height: 10px; background-color: black; border: 1px solid gray;\"></td><td style=\"width: 10px; height: 10px; background-color: white; border: 1px solid gray;\"></td><td style=\"width: 10px; height: 10px; background-color: black; border: 1px solid gray;\"></td><td style=\"width: 10px; height: 10px; background-color: black; border: 1px solid gray;\"></td><td style=\"width: 10px; height: 10px; background-color: black; border: 1px solid gray;\"></td><td style=\"width: 10px; height: 10px; background-color: white; border: 1px solid gray;\"></td><td style=\"width: 10px; height: 10px; background-color: black; border: 1px solid gray;\"></td><td style=\"width: 10px; height: 10px; background-color: white; border: 1px solid gray;\"></td><td style=\"width: 10px; height: 10px; background-color: black; border: 1px solid gray;\"></td><td style=\"width: 10px; height: 10px; background-color: black; border: 1px solid gray;\"></td><td style=\"width: 10px; height: 10px; background-color: black; border: 1px solid gray;\"></td><td style=\"width: 10px; height: 10px; background-color: white; border: 1px solid gray;\"></td></tr><tr><td style=\"width: 10px; height: 10px; background-color: white; border: 1px solid gray;\"></td><td style=\"width: 10px; height: 10px; background-color: black; border: 1px solid gray;\"></td><td style=\"width: 10px; height: 10px; background-color: white; border: 1px solid gray;\"></td><td style=\"width: 10px; height: 10px; background-color: white; border: 1px solid gray;\"></td><td style=\"width: 10px; height: 10px; background-color: white; border: 1px solid gray;\"></td><td style=\"width: 10px; height: 10px; background-color: white; border: 1px solid gray;\"></td><td style=\"width: 10px; height: 10px; background-color: white; border: 1px solid gray;\"></td><td style=\"width: 10px; height: 10px; background-color: black; border: 1px solid gray;\"></td><td style=\"width: 10px; height: 10px; background-color: white; border: 1px solid gray;\"></td><td style=\"width: 10px; height: 10px; background-color: white; border: 1px solid gray;\"></td><td style=\"width: 10px; height: 10px; background-color: white; border: 1px solid gray;\"></td><td style=\"width: 10px; height: 10px; background-color: black; border: 1px solid gray;\"></td><td style=\"width: 10px; height: 10px; background-color: white; border: 1px solid gray;\"></td><td style=\"width: 10px; height: 10px; background-color: black; border: 1px solid gray;\"></td><td style=\"width: 10px; height: 10px; background-color: white; border: 1px solid gray;\"></td><td style=\"width: 10px; height: 10px; background-color: white; border: 1px solid gray;\"></td><td style=\"width: 10px; height: 10px; background-color: white; border: 1px solid gray;\"></td></tr><tr><td style=\"width: 10px; height: 10px; background-color: white; border: 1px solid gray;\"></td><td style=\"width: 10px; height: 10px; background-color: black; border: 1px solid gray;\"></td><td style=\"width: 10px; height: 10px; background-color: black; border: 1px solid gray;\"></td><td style=\"width: 10px; height: 10px; background-color: black; border: 1px solid gray;\"></td><td style=\"width: 10px; height: 10px; background-color: black; border: 1px solid gray;\"></td><td style=\"width: 10px; height: 10px; background-color: black; border: 1px solid gray;\"></td><td style=\"width: 10px; height: 10px; background-color: black; border: 1px solid gray;\"></td><td style=\"width: 10px; height: 10px; background-color: black; border: 1px solid gray;\"></td><td style=\"width: 10px; height: 10px; background-color: white; border: 1px solid gray;\"></td><td style=\"width: 10px; height: 10px; background-color: black; border: 1px solid gray;\"></td><td style=\"width: 10px; height: 10px; background-color: black; border: 1px solid gray;\"></td><td style=\"width: 10px; height: 10px; background-color: black; border: 1px solid gray;\"></td><td style=\"width: 10px; height: 10px; background-color: white; border: 1px solid gray;\"></td><td style=\"width: 10px; height: 10px; background-color: black; border: 1px solid gray;\"></td><td style=\"width: 10px; height: 10px; background-color: white; border: 1px solid gray;\"></td><td style=\"width: 10px; height: 10px; background-color: black; border: 1px solid gray;\"></td><td style=\"width: 10px; height: 10px; background-color: black; border: 1px solid gray;\"></td></tr><tr><td style=\"width: 10px; height: 10px; background-color: white; border: 1px solid gray;\"></td><td style=\"width: 10px; height: 10px; background-color: white; border: 1px solid gray;\"></td><td style=\"width: 10px; height: 10px; background-color: white; border: 1px solid gray;\"></td><td style=\"width: 10px; height: 10px; background-color: white; border: 1px solid gray;\"></td><td style=\"width: 10px; height: 10px; background-color: white; border: 1px solid gray;\"></td><td style=\"width: 10px; height: 10px; background-color: white; border: 1px solid gray;\"></td><td style=\"width: 10px; height: 10px; background-color: white; border: 1px solid gray;\"></td><td style=\"width: 10px; height: 10px; background-color: black; border: 1px solid gray;\"></td><td style=\"width: 10px; height: 10px; background-color: white; border: 1px solid gray;\"></td><td style=\"width: 10px; height: 10px; background-color: white; border: 1px solid gray;\"></td><td style=\"width: 10px; height: 10px; background-color: white; border: 1px solid gray;\"></td><td style=\"width: 10px; height: 10px; background-color: black; border: 1px solid gray;\"></td><td style=\"width: 10px; height: 10px; background-color: white; border: 1px solid gray;\"></td><td style=\"width: 10px; height: 10px; background-color: black; border: 1px solid gray;\"></td><td style=\"width: 10px; height: 10px; background-color: white; border: 1px solid gray;\"></td><td style=\"width: 10px; height: 10px; background-color: white; border: 1px solid gray;\"></td><td style=\"width: 10px; height: 10px; background-color: white; border: 1px solid gray;\"></td></tr><tr><td style=\"width: 10px; height: 10px; background-color: white; border: 1px solid gray;\"></td><td style=\"width: 10px; height: 10px; background-color: black; border: 1px solid gray;\"></td><td style=\"width: 10px; height: 10px; background-color: white; border: 1px solid gray;\"></td><td style=\"width: 10px; height: 10px; background-color: black; border: 1px solid gray;\"></td><td style=\"width: 10px; height: 10px; background-color: black; border: 1px solid gray;\"></td><td style=\"width: 10px; height: 10px; background-color: black; border: 1px solid gray;\"></td><td style=\"width: 10px; height: 10px; background-color: white; border: 1px solid gray;\"></td><td style=\"width: 10px; height: 10px; background-color: black; border: 1px solid gray;\"></td><td style=\"width: 10px; height: 10px; background-color: black; border: 1px solid gray;\"></td><td style=\"width: 10px; height: 10px; background-color: black; border: 1px solid gray;\"></td><td style=\"width: 10px; height: 10px; background-color: white; border: 1px solid gray;\"></td><td style=\"width: 10px; height: 10px; background-color: black; border: 1px solid gray;\"></td><td style=\"width: 10px; height: 10px; background-color: black; border: 1px solid gray;\"></td><td style=\"width: 10px; height: 10px; background-color: black; border: 1px solid gray;\"></td><td style=\"width: 10px; height: 10px; background-color: black; border: 1px solid gray;\"></td><td style=\"width: 10px; height: 10px; background-color: black; border: 1px solid gray;\"></td><td style=\"width: 10px; height: 10px; background-color: white; border: 1px solid gray;\"></td></tr><tr><td style=\"width: 10px; height: 10px; background-color: white; border: 1px solid gray;\"></td><td style=\"width: 10px; height: 10px; background-color: black; border: 1px solid gray;\"></td><td style=\"width: 10px; height: 10px; background-color: white; border: 1px solid gray;\"></td><td style=\"width: 10px; height: 10px; background-color: white; border: 1px solid gray;\"></td><td style=\"width: 10px; height: 10px; background-color: white; border: 1px solid gray;\"></td><td style=\"width: 10px; height: 10px; background-color: black; border: 1px solid gray;\"></td><td style=\"width: 10px; height: 10px; background-color: white; border: 1px solid gray;\"></td><td style=\"width: 10px; height: 10px; background-color: black; border: 1px solid gray;\"></td><td style=\"width: 10px; height: 10px; background-color: white; border: 1px solid gray;\"></td><td style=\"width: 10px; height: 10px; background-color: white; border: 1px solid gray;\"></td><td style=\"width: 10px; height: 10px; background-color: white; border: 1px solid gray;\"></td><td style=\"width: 10px; height: 10px; background-color: white; border: 1px solid gray;\"></td><td style=\"width: 10px; height: 10px; background-color: white; border: 1px solid gray;\"></td><td style=\"width: 10px; height: 10px; background-color: white; border: 1px solid gray;\"></td><td style=\"width: 10px; height: 10px; background-color: white; border: 1px solid gray;\"></td><td style=\"width: 10px; height: 10px; background-color: white; border: 1px solid gray;\"></td><td style=\"width: 10px; height: 10px; background-color: white; border: 1px solid gray;\"></td></tr><tr><td style=\"width: 10px; height: 10px; background-color: white; border: 1px solid gray;\"></td><td style=\"width: 10px; height: 10px; background-color: black; border: 1px solid gray;\"></td><td style=\"width: 10px; height: 10px; background-color: black; border: 1px solid gray;\"></td><td style=\"width: 10px; height: 10px; background-color: black; border: 1px solid gray;\"></td><td style=\"width: 10px; height: 10px; background-color: white; border: 1px solid gray;\"></td><td style=\"width: 10px; height: 10px; background-color: black; border: 1px solid gray;\"></td><td style=\"width: 10px; height: 10px; background-color: white; border: 1px solid gray;\"></td><td style=\"width: 10px; height: 10px; background-color: black; border: 1px solid gray;\"></td><td style=\"width: 10px; height: 10px; background-color: white; border: 1px solid gray;\"></td><td style=\"width: 10px; height: 10px; background-color: black; border: 1px solid gray;\"></td><td style=\"width: 10px; height: 10px; background-color: black; border: 1px solid gray;\"></td><td style=\"width: 10px; height: 10px; background-color: black; border: 1px solid gray;\"></td><td style=\"width: 10px; height: 10px; background-color: black; border: 1px solid gray;\"></td><td style=\"width: 10px; height: 10px; background-color: black; border: 1px solid gray;\"></td><td style=\"width: 10px; height: 10px; background-color: black; border: 1px solid gray;\"></td><td style=\"width: 10px; height: 10px; background-color: black; border: 1px solid gray;\"></td><td style=\"width: 10px; height: 10px; background-color: black; border: 1px solid gray;\"></td></tr><tr><td style=\"width: 10px; height: 10px; background-color: white; border: 1px solid gray;\"></td><td style=\"width: 10px; height: 10px; background-color: black; border: 1px solid gray;\"></td><td style=\"width: 10px; height: 10px; background-color: white; border: 1px solid gray;\"></td><td style=\"width: 10px; height: 10px; background-color: white; border: 1px solid gray;\"></td><td style=\"width: 10px; height: 10px; background-color: white; border: 1px solid gray;\"></td><td style=\"width: 10px; height: 10px; background-color: black; border: 1px solid gray;\"></td><td style=\"width: 10px; height: 10px; background-color: white; border: 1px solid gray;\"></td><td style=\"width: 10px; height: 10px; background-color: black; border: 1px solid gray;\"></td><td style=\"width: 10px; height: 10px; background-color: white; border: 1px solid gray;\"></td><td style=\"width: 10px; height: 10px; background-color: white; border: 1px solid gray;\"></td><td style=\"width: 10px; height: 10px; background-color: white; border: 1px solid gray;\"></td><td style=\"width: 10px; height: 10px; background-color: white; border: 1px solid gray;\"></td><td style=\"width: 10px; height: 10px; background-color: white; border: 1px solid gray;\"></td><td style=\"width: 10px; height: 10px; background-color: white; border: 1px solid gray;\"></td><td style=\"width: 10px; height: 10px; background-color: white; border: 1px solid gray;\"></td><td style=\"width: 10px; height: 10px; background-color: white; border: 1px solid gray;\"></td><td style=\"width: 10px; height: 10px; background-color: white; border: 1px solid gray;\"></td></tr><tr><td style=\"width: 10px; height: 10px; background-color: white; border: 1px solid gray;\"></td><td style=\"width: 10px; height: 10px; background-color: black; border: 1px solid gray;\"></td><td style=\"width: 10px; height: 10px; background-color: white; border: 1px solid gray;\"></td><td style=\"width: 10px; height: 10px; background-color: black; border: 1px solid gray;\"></td><td style=\"width: 10px; height: 10px; background-color: black; border: 1px solid gray;\"></td><td style=\"width: 10px; height: 10px; background-color: black; border: 1px solid gray;\"></td><td style=\"width: 10px; height: 10px; background-color: black; border: 1px solid gray;\"></td><td style=\"width: 10px; height: 10px; background-color: black; border: 1px solid gray;\"></td><td style=\"width: 10px; height: 10px; background-color: black; border: 1px solid gray;\"></td><td style=\"width: 10px; height: 10px; background-color: black; border: 1px solid gray;\"></td><td style=\"width: 10px; height: 10px; background-color: black; border: 1px solid gray;\"></td><td style=\"width: 10px; height: 10px; background-color: black; border: 1px solid gray;\"></td><td style=\"width: 10px; height: 10px; background-color: black; border: 1px solid gray;\"></td><td style=\"width: 10px; height: 10px; background-color: black; border: 1px solid gray;\"></td><td style=\"width: 10px; height: 10px; background-color: black; border: 1px solid gray;\"></td><td style=\"width: 10px; height: 10px; background-color: black; border: 1px solid gray;\"></td><td style=\"width: 10px; height: 10px; background-color: white; border: 1px solid gray;\"></td></tr><tr><td style=\"width: 10px; height: 10px; background-color: white; border: 1px solid gray;\"></td><td style=\"width: 10px; height: 10px; background-color: black; border: 1px solid gray;\"></td><td style=\"width: 10px; height: 10px; background-color: white; border: 1px solid gray;\"></td><td style=\"width: 10px; height: 10px; background-color: black; border: 1px solid gray;\"></td><td style=\"width: 10px; height: 10px; background-color: white; border: 1px solid gray;\"></td><td style=\"width: 10px; height: 10px; background-color: white; border: 1px solid gray;\"></td><td style=\"width: 10px; height: 10px; background-color: white; border: 1px solid gray;\"></td><td style=\"width: 10px; height: 10px; background-color: white; border: 1px solid gray;\"></td><td style=\"width: 10px; height: 10px; background-color: white; border: 1px solid gray;\"></td><td style=\"width: 10px; height: 10px; background-color: white; border: 1px solid gray;\"></td><td style=\"width: 10px; height: 10px; background-color: white; border: 1px solid gray;\"></td><td style=\"width: 10px; height: 10px; background-color: black; border: 1px solid gray;\"></td><td style=\"width: 10px; height: 10px; background-color: white; border: 1px solid gray;\"></td><td style=\"width: 10px; height: 10px; background-color: white; border: 1px solid gray;\"></td><td style=\"width: 10px; height: 10px; background-color: white; border: 1px solid gray;\"></td><td style=\"width: 10px; height: 10px; background-color: white; border: 1px solid gray;\"></td><td style=\"width: 10px; height: 10px; background-color: white; border: 1px solid gray;\"></td></tr><tr><td style=\"width: 10px; height: 10px; background-color: black; border: 1px solid gray;\"></td><td style=\"width: 10px; height: 10px; background-color: black; border: 1px solid gray;\"></td><td style=\"width: 10px; height: 10px; background-color: white; border: 1px solid gray;\"></td><td style=\"width: 10px; height: 10px; background-color: black; border: 1px solid gray;\"></td><td style=\"width: 10px; height: 10px; background-color: white; border: 1px solid gray;\"></td><td style=\"width: 10px; height: 10px; background-color: black; border: 1px solid gray;\"></td><td style=\"width: 10px; height: 10px; background-color: white; border: 1px solid gray;\"></td><td style=\"width: 10px; height: 10px; background-color: black; border: 1px solid gray;\"></td><td style=\"width: 10px; height: 10px; background-color: black; border: 1px solid gray;\"></td><td style=\"width: 10px; height: 10px; background-color: black; border: 1px solid gray;\"></td><td style=\"width: 10px; height: 10px; background-color: white; border: 1px solid gray;\"></td><td style=\"width: 10px; height: 10px; background-color: black; border: 1px solid gray;\"></td><td style=\"width: 10px; height: 10px; background-color: white; border: 1px solid gray;\"></td><td style=\"width: 10px; height: 10px; background-color: black; border: 1px solid gray;\"></td><td style=\"width: 10px; height: 10px; background-color: black; border: 1px solid gray;\"></td><td style=\"width: 10px; height: 10px; background-color: black; border: 1px solid gray;\"></td><td style=\"width: 10px; height: 10px; background-color: black; border: 1px solid gray;\"></td></tr><tr><td style=\"width: 10px; height: 10px; background-color: white; border: 1px solid gray;\"></td><td style=\"width: 10px; height: 10px; background-color: white; border: 1px solid gray;\"></td><td style=\"width: 10px; height: 10px; background-color: white; border: 1px solid gray;\"></td><td style=\"width: 10px; height: 10px; background-color: black; border: 1px solid gray;\"></td><td style=\"width: 10px; height: 10px; background-color: white; border: 1px solid gray;\"></td><td style=\"width: 10px; height: 10px; background-color: black; border: 1px solid gray;\"></td><td style=\"width: 10px; height: 10px; background-color: white; border: 1px solid gray;\"></td><td style=\"width: 10px; height: 10px; background-color: black; border: 1px solid gray;\"></td><td style=\"width: 10px; height: 10px; background-color: white; border: 1px solid gray;\"></td><td style=\"width: 10px; height: 10px; background-color: white; border: 1px solid gray;\"></td><td style=\"width: 10px; height: 10px; background-color: white; border: 1px solid gray;\"></td><td style=\"width: 10px; height: 10px; background-color: black; border: 1px solid gray;\"></td><td style=\"width: 10px; height: 10px; background-color: white; border: 1px solid gray;\"></td><td style=\"width: 10px; height: 10px; background-color: white; border: 1px solid gray;\"></td><td style=\"width: 10px; height: 10px; background-color: red; border: 1px solid gray;\"></td><td style=\"width: 10px; height: 10px; background-color: white; border: 1px solid gray;\"></td><td style=\"width: 10px; height: 10px; background-color: white; border: 1px solid gray;\"></td></tr><tr><td style=\"width: 10px; height: 10px; background-color: white; border: 1px solid gray;\"></td><td style=\"width: 10px; height: 10px; background-color: black; border: 1px solid gray;\"></td><td style=\"width: 10px; height: 10px; background-color: white; border: 1px solid gray;\"></td><td style=\"width: 10px; height: 10px; background-color: black; border: 1px solid gray;\"></td><td style=\"width: 10px; height: 10px; background-color: white; border: 1px solid gray;\"></td><td style=\"width: 10px; height: 10px; background-color: black; border: 1px solid gray;\"></td><td style=\"width: 10px; height: 10px; background-color: white; border: 1px solid gray;\"></td><td style=\"width: 10px; height: 10px; background-color: black; border: 1px solid gray;\"></td><td style=\"width: 10px; height: 10px; background-color: white; border: 1px solid gray;\"></td><td style=\"width: 10px; height: 10px; background-color: black; border: 1px solid gray;\"></td><td style=\"width: 10px; height: 10px; background-color: black; border: 1px solid gray;\"></td><td style=\"width: 10px; height: 10px; background-color: black; border: 1px solid gray;\"></td><td style=\"width: 10px; height: 10px; background-color: black; border: 1px solid gray;\"></td><td style=\"width: 10px; height: 10px; background-color: black; border: 1px solid gray;\"></td><td style=\"width: 10px; height: 10px; background-color: black; border: 1px solid gray;\"></td><td style=\"width: 10px; height: 10px; background-color: black; border: 1px solid gray;\"></td><td style=\"width: 10px; height: 10px; background-color: white; border: 1px solid gray;\"></td></tr><tr><td style=\"width: 10px; height: 10px; background-color: white; border: 1px solid gray;\"></td><td style=\"width: 10px; height: 10px; background-color: black; border: 1px solid gray;\"></td><td style=\"width: 10px; height: 10px; background-color: white; border: 1px solid gray;\"></td><td style=\"width: 10px; height: 10px; background-color: black; border: 1px solid gray;\"></td><td style=\"width: 10px; height: 10px; background-color: white; border: 1px solid gray;\"></td><td style=\"width: 10px; height: 10px; background-color: black; border: 1px solid gray;\"></td><td style=\"width: 10px; height: 10px; background-color: white; border: 1px solid gray;\"></td><td style=\"width: 10px; height: 10px; background-color: black; border: 1px solid gray;\"></td><td style=\"width: 10px; height: 10px; background-color: white; border: 1px solid gray;\"></td><td style=\"width: 10px; height: 10px; background-color: black; border: 1px solid gray;\"></td><td style=\"width: 10px; height: 10px; background-color: white; border: 1px solid gray;\"></td><td style=\"width: 10px; height: 10px; background-color: black; border: 1px solid gray;\"></td><td style=\"width: 10px; height: 10px; background-color: white; border: 1px solid gray;\"></td><td style=\"width: 10px; height: 10px; background-color: white; border: 1px solid gray;\"></td><td style=\"width: 10px; height: 10px; background-color: white; border: 1px solid gray;\"></td><td style=\"width: 10px; height: 10px; background-color: black; border: 1px solid gray;\"></td><td style=\"width: 10px; height: 10px; background-color: white; border: 1px solid gray;\"></td></tr><tr><td style=\"width: 10px; height: 10px; background-color: white; border: 1px solid gray;\"></td><td style=\"width: 10px; height: 10px; background-color: black; border: 1px solid gray;\"></td><td style=\"width: 10px; height: 10px; background-color: black; border: 1px solid gray;\"></td><td style=\"width: 10px; height: 10px; background-color: black; border: 1px solid gray;\"></td><td style=\"width: 10px; height: 10px; background-color: white; border: 1px solid gray;\"></td><td style=\"width: 10px; height: 10px; background-color: black; border: 1px solid gray;\"></td><td style=\"width: 10px; height: 10px; background-color: white; border: 1px solid gray;\"></td><td style=\"width: 10px; height: 10px; background-color: black; border: 1px solid gray;\"></td><td style=\"width: 10px; height: 10px; background-color: white; border: 1px solid gray;\"></td><td style=\"width: 10px; height: 10px; background-color: black; border: 1px solid gray;\"></td><td style=\"width: 10px; height: 10px; background-color: white; border: 1px solid gray;\"></td><td style=\"width: 10px; height: 10px; background-color: black; border: 1px solid gray;\"></td><td style=\"width: 10px; height: 10px; background-color: white; border: 1px solid gray;\"></td><td style=\"width: 10px; height: 10px; background-color: black; border: 1px solid gray;\"></td><td style=\"width: 10px; height: 10px; background-color: white; border: 1px solid gray;\"></td><td style=\"width: 10px; height: 10px; background-color: black; border: 1px solid gray;\"></td><td style=\"width: 10px; height: 10px; background-color: white; border: 1px solid gray;\"></td></tr><tr><td style=\"width: 10px; height: 10px; background-color: white; border: 1px solid gray;\"></td><td style=\"width: 10px; height: 10px; background-color: white; border: 1px solid gray;\"></td><td style=\"width: 10px; height: 10px; background-color: white; border: 1px solid gray;\"></td><td style=\"width: 10px; height: 10px; background-color: white; border: 1px solid gray;\"></td><td style=\"width: 10px; height: 10px; background-color: white; border: 1px solid gray;\"></td><td style=\"width: 10px; height: 10px; background-color: black; border: 1px solid gray;\"></td><td style=\"width: 10px; height: 10px; background-color: white; border: 1px solid gray;\"></td><td style=\"width: 10px; height: 10px; background-color: black; border: 1px solid gray;\"></td><td style=\"width: 10px; height: 10px; background-color: white; border: 1px solid gray;\"></td><td style=\"width: 10px; height: 10px; background-color: white; border: 1px solid gray;\"></td><td style=\"width: 10px; height: 10px; background-color: white; border: 1px solid gray;\"></td><td style=\"width: 10px; height: 10px; background-color: white; border: 1px solid gray;\"></td><td style=\"width: 10px; height: 10px; background-color: white; border: 1px solid gray;\"></td><td style=\"width: 10px; height: 10px; background-color: black; border: 1px solid gray;\"></td><td style=\"width: 10px; height: 10px; background-color: white; border: 1px solid gray;\"></td><td style=\"width: 10px; height: 10px; background-color: white; border: 1px solid gray;\"></td><td style=\"width: 10px; height: 10px; background-color: white; border: 1px solid gray;\"></td></tr></table>"
      ],
      "text/plain": [
       "<IPython.core.display.HTML object>"
      ]
     },
     "metadata": {},
     "output_type": "display_data"
    }
   ],
   "source": [
    "display_colored_grid(grid)"
   ]
  },
  {
   "cell_type": "code",
   "execution_count": 1971,
   "metadata": {},
   "outputs": [],
   "source": [
    "maze = grid\n",
    "visited = []"
   ]
  },
  {
   "cell_type": "code",
   "execution_count": 1,
   "metadata": {},
   "outputs": [],
   "source": [
    "def DFS(maze, current_cell = (0, 0), visited = None):\n",
    "    if visited is None:\n",
    "        visited = []\n",
    "    directions = [(0, 1), (0, -1), (1, 0), (-1, 0)]\n",
    "    \n",
    "    def validate_cell(cell):\n",
    "        return 0<= cell[0] < grid_length and 0<= cell[1] < grid_height and grid[cell[0]][cell[1]] == 0\n",
    "\n",
    "    x, y = current_cell\n",
    "\n",
    "    if maze[x][y] == 99:\n",
    "        exit(0)\n",
    "        \n",
    "    \n",
    "    maze[x][y] = 2\n",
    "    visited.append(current_cell)\n",
    "    random.shuffle(directions)\n",
    "    for direction in directions:\n",
    "        new_cell = tuple(a + b for a, b in zip(current_cell, direction))\n",
    "        if validate_cell(new_cell) and new_cell not in visited:\n",
    "            DFS(maze, new_cell)\n",
    "            print(new_cell)"
   ]
  },
  {
   "cell_type": "code",
   "execution_count": 1991,
   "metadata": {},
   "outputs": [
    {
     "name": "stdout",
     "output_type": "stream",
     "text": [
      "(8, 16)\n",
      "(9, 16)\n",
      "(6, 13)\n",
      "(6, 12)\n",
      "(6, 11)\n",
      "(6, 10)\n",
      "(6, 9)\n",
      "(6, 8)\n",
      "(6, 7)\n",
      "(6, 6)\n",
      "(6, 5)\n",
      "(6, 4)\n",
      "(5, 4)\n",
      "(2, 0)\n",
      "(2, 1)\n",
      "(2, 2)\n",
      "(2, 3)\n",
      "(2, 4)\n",
      "(3, 4)\n",
      "(4, 4)\n",
      "(4, 3)\n",
      "(4, 2)\n",
      "(4, 1)\n",
      "(4, 0)\n",
      "(5, 0)\n",
      "(6, 0)\n",
      "(6, 1)\n",
      "(6, 2)\n",
      "(7, 2)\n",
      "(8, 2)\n",
      "(8, 1)\n",
      "(8, 0)\n",
      "(9, 0)\n",
      "(18, 14)\n",
      "(18, 13)\n",
      "(18, 12)\n",
      "(18, 11)\n",
      "(12, 6)\n",
      "(12, 7)\n",
      "(12, 8)\n",
      "(13, 8)\n",
      "(14, 8)\n",
      "(15, 8)\n",
      "(16, 8)\n",
      "(16, 9)\n",
      "(16, 10)\n",
      "(17, 10)\n",
      "(18, 10)\n",
      "(18, 9)\n",
      "(18, 8)\n",
      "(18, 7)\n",
      "(18, 6)\n",
      "(18, 5)\n",
      "(18, 4)\n",
      "(17, 4)\n",
      "(16, 4)\n",
      "(16, 5)\n",
      "(16, 6)\n",
      "(15, 6)\n",
      "(14, 6)\n",
      "(14, 5)\n",
      "(14, 4)\n",
      "(14, 3)\n",
      "(14, 2)\n",
      "(15, 2)\n",
      "(16, 2)\n",
      "(17, 2)\n",
      "(18, 2)\n",
      "(18, 1)\n",
      "(18, 0)\n",
      "(17, 0)\n",
      "(16, 0)\n",
      "(15, 0)\n",
      "(14, 0)\n",
      "(13, 0)\n",
      "(12, 0)\n",
      "(11, 0)\n",
      "(10, 0)\n",
      "(10, 1)\n",
      "(10, 2)\n",
      "(11, 2)\n",
      "(12, 2)\n",
      "(12, 3)\n",
      "(12, 4)\n",
      "(11, 4)\n",
      "(10, 4)\n",
      "(9, 4)\n",
      "(8, 4)\n",
      "(8, 5)\n",
      "(8, 6)\n",
      "(9, 6)\n",
      "(10, 6)\n",
      "(10, 7)\n",
      "(10, 12)\n",
      "(10, 11)\n",
      "(10, 10)\n",
      "(10, 9)\n",
      "(10, 8)\n",
      "(9, 8)\n",
      "(8, 8)\n",
      "(8, 9)\n",
      "(8, 10)\n",
      "(8, 11)\n",
      "(8, 12)\n",
      "(8, 13)\n",
      "(8, 14)\n",
      "(9, 14)\n",
      "(10, 14)\n",
      "(11, 14)\n",
      "(14, 14)\n",
      "(13, 14)\n",
      "(12, 14)\n",
      "(12, 13)\n",
      "(12, 12)\n",
      "(12, 11)\n",
      "(12, 10)\n",
      "(13, 10)\n",
      "(14, 10)\n",
      "(14, 11)\n",
      "(14, 12)\n",
      "(15, 12)\n",
      "(16, 12)\n",
      "(16, 13)\n",
      "(16, 14)\n",
      "(16, 15)\n",
      "(16, 16)\n",
      "(17, 16)\n",
      "(18, 16)\n",
      "(18, 17)\n",
      "(18, 18)\n",
      "(17, 18)\n",
      "(16, 18)\n",
      "(15, 18)\n",
      "(12, 18)\n",
      "(13, 18)\n",
      "(14, 18)\n",
      "(14, 17)\n",
      "(14, 16)\n",
      "(13, 16)\n",
      "(12, 16)\n",
      "(11, 16)\n",
      "(10, 16)\n",
      "(10, 17)\n",
      "(10, 18)\n",
      "(9, 18)\n",
      "(8, 18)\n",
      "(7, 18)\n",
      "(2, 12)\n",
      "(2, 11)\n",
      "(2, 10)\n",
      "(2, 9)\n",
      "(2, 8)\n",
      "(1, 8)\n",
      "(0, 8)\n",
      "(0, 9)\n",
      "(0, 10)\n",
      "(0, 11)\n",
      "(0, 12)\n",
      "(0, 13)\n",
      "(0, 14)\n",
      "(0, 15)\n",
      "(0, 16)\n",
      "(0, 17)\n",
      "(0, 18)\n",
      "(1, 18)\n",
      "(2, 18)\n",
      "(3, 18)\n",
      "(4, 18)\n",
      "(5, 18)\n",
      "(6, 18)\n",
      "(6, 17)\n",
      "(6, 16)\n",
      "(5, 16)\n",
      "(4, 16)\n",
      "(3, 16)\n",
      "(2, 16)\n",
      "(2, 15)\n",
      "(2, 14)\n",
      "(3, 14)\n",
      "(4, 14)\n",
      "(4, 13)\n",
      "(4, 12)\n",
      "(4, 11)\n",
      "(4, 10)\n",
      "(4, 9)\n",
      "(4, 8)\n",
      "(4, 7)\n",
      "(4, 6)\n",
      "(3, 6)\n",
      "(2, 6)\n",
      "(1, 6)\n",
      "(0, 6)\n",
      "(0, 5)\n",
      "(0, 4)\n",
      "(0, 3)\n",
      "(0, 2)\n",
      "(0, 1)\n"
     ]
    }
   ],
   "source": [
    "DFS(maze)"
   ]
  },
  {
   "cell_type": "code",
   "execution_count": 1993,
   "metadata": {},
   "outputs": [
    {
     "data": {
      "text/html": [
       "<table style=\"border-collapse: collapse;\"><tr><td style=\"width: 10px; height: 10px; background-color: blue; border: 1px solid gray;\"></td><td style=\"width: 10px; height: 10px; background-color: blue; border: 1px solid gray;\"></td><td style=\"width: 10px; height: 10px; background-color: blue; border: 1px solid gray;\"></td><td style=\"width: 10px; height: 10px; background-color: blue; border: 1px solid gray;\"></td><td style=\"width: 10px; height: 10px; background-color: blue; border: 1px solid gray;\"></td><td style=\"width: 10px; height: 10px; background-color: blue; border: 1px solid gray;\"></td><td style=\"width: 10px; height: 10px; background-color: blue; border: 1px solid gray;\"></td><td style=\"width: 10px; height: 10px; background-color: black; border: 1px solid gray;\"></td><td style=\"width: 10px; height: 10px; background-color: blue; border: 1px solid gray;\"></td><td style=\"width: 10px; height: 10px; background-color: blue; border: 1px solid gray;\"></td><td style=\"width: 10px; height: 10px; background-color: blue; border: 1px solid gray;\"></td><td style=\"width: 10px; height: 10px; background-color: blue; border: 1px solid gray;\"></td><td style=\"width: 10px; height: 10px; background-color: blue; border: 1px solid gray;\"></td><td style=\"width: 10px; height: 10px; background-color: blue; border: 1px solid gray;\"></td><td style=\"width: 10px; height: 10px; background-color: blue; border: 1px solid gray;\"></td><td style=\"width: 10px; height: 10px; background-color: blue; border: 1px solid gray;\"></td><td style=\"width: 10px; height: 10px; background-color: blue; border: 1px solid gray;\"></td><td style=\"width: 10px; height: 10px; background-color: blue; border: 1px solid gray;\"></td><td style=\"width: 10px; height: 10px; background-color: blue; border: 1px solid gray;\"></td></tr><tr><td style=\"width: 10px; height: 10px; background-color: black; border: 1px solid gray;\"></td><td style=\"width: 10px; height: 10px; background-color: black; border: 1px solid gray;\"></td><td style=\"width: 10px; height: 10px; background-color: black; border: 1px solid gray;\"></td><td style=\"width: 10px; height: 10px; background-color: black; border: 1px solid gray;\"></td><td style=\"width: 10px; height: 10px; background-color: black; border: 1px solid gray;\"></td><td style=\"width: 10px; height: 10px; background-color: black; border: 1px solid gray;\"></td><td style=\"width: 10px; height: 10px; background-color: blue; border: 1px solid gray;\"></td><td style=\"width: 10px; height: 10px; background-color: black; border: 1px solid gray;\"></td><td style=\"width: 10px; height: 10px; background-color: blue; border: 1px solid gray;\"></td><td style=\"width: 10px; height: 10px; background-color: black; border: 1px solid gray;\"></td><td style=\"width: 10px; height: 10px; background-color: black; border: 1px solid gray;\"></td><td style=\"width: 10px; height: 10px; background-color: black; border: 1px solid gray;\"></td><td style=\"width: 10px; height: 10px; background-color: black; border: 1px solid gray;\"></td><td style=\"width: 10px; height: 10px; background-color: black; border: 1px solid gray;\"></td><td style=\"width: 10px; height: 10px; background-color: black; border: 1px solid gray;\"></td><td style=\"width: 10px; height: 10px; background-color: black; border: 1px solid gray;\"></td><td style=\"width: 10px; height: 10px; background-color: black; border: 1px solid gray;\"></td><td style=\"width: 10px; height: 10px; background-color: black; border: 1px solid gray;\"></td><td style=\"width: 10px; height: 10px; background-color: blue; border: 1px solid gray;\"></td></tr><tr><td style=\"width: 10px; height: 10px; background-color: blue; border: 1px solid gray;\"></td><td style=\"width: 10px; height: 10px; background-color: blue; border: 1px solid gray;\"></td><td style=\"width: 10px; height: 10px; background-color: blue; border: 1px solid gray;\"></td><td style=\"width: 10px; height: 10px; background-color: blue; border: 1px solid gray;\"></td><td style=\"width: 10px; height: 10px; background-color: blue; border: 1px solid gray;\"></td><td style=\"width: 10px; height: 10px; background-color: black; border: 1px solid gray;\"></td><td style=\"width: 10px; height: 10px; background-color: blue; border: 1px solid gray;\"></td><td style=\"width: 10px; height: 10px; background-color: black; border: 1px solid gray;\"></td><td style=\"width: 10px; height: 10px; background-color: blue; border: 1px solid gray;\"></td><td style=\"width: 10px; height: 10px; background-color: blue; border: 1px solid gray;\"></td><td style=\"width: 10px; height: 10px; background-color: blue; border: 1px solid gray;\"></td><td style=\"width: 10px; height: 10px; background-color: blue; border: 1px solid gray;\"></td><td style=\"width: 10px; height: 10px; background-color: blue; border: 1px solid gray;\"></td><td style=\"width: 10px; height: 10px; background-color: black; border: 1px solid gray;\"></td><td style=\"width: 10px; height: 10px; background-color: blue; border: 1px solid gray;\"></td><td style=\"width: 10px; height: 10px; background-color: blue; border: 1px solid gray;\"></td><td style=\"width: 10px; height: 10px; background-color: blue; border: 1px solid gray;\"></td><td style=\"width: 10px; height: 10px; background-color: black; border: 1px solid gray;\"></td><td style=\"width: 10px; height: 10px; background-color: blue; border: 1px solid gray;\"></td></tr><tr><td style=\"width: 10px; height: 10px; background-color: black; border: 1px solid gray;\"></td><td style=\"width: 10px; height: 10px; background-color: black; border: 1px solid gray;\"></td><td style=\"width: 10px; height: 10px; background-color: black; border: 1px solid gray;\"></td><td style=\"width: 10px; height: 10px; background-color: black; border: 1px solid gray;\"></td><td style=\"width: 10px; height: 10px; background-color: blue; border: 1px solid gray;\"></td><td style=\"width: 10px; height: 10px; background-color: black; border: 1px solid gray;\"></td><td style=\"width: 10px; height: 10px; background-color: blue; border: 1px solid gray;\"></td><td style=\"width: 10px; height: 10px; background-color: black; border: 1px solid gray;\"></td><td style=\"width: 10px; height: 10px; background-color: black; border: 1px solid gray;\"></td><td style=\"width: 10px; height: 10px; background-color: black; border: 1px solid gray;\"></td><td style=\"width: 10px; height: 10px; background-color: black; border: 1px solid gray;\"></td><td style=\"width: 10px; height: 10px; background-color: black; border: 1px solid gray;\"></td><td style=\"width: 10px; height: 10px; background-color: black; border: 1px solid gray;\"></td><td style=\"width: 10px; height: 10px; background-color: black; border: 1px solid gray;\"></td><td style=\"width: 10px; height: 10px; background-color: blue; border: 1px solid gray;\"></td><td style=\"width: 10px; height: 10px; background-color: black; border: 1px solid gray;\"></td><td style=\"width: 10px; height: 10px; background-color: blue; border: 1px solid gray;\"></td><td style=\"width: 10px; height: 10px; background-color: black; border: 1px solid gray;\"></td><td style=\"width: 10px; height: 10px; background-color: blue; border: 1px solid gray;\"></td></tr><tr><td style=\"width: 10px; height: 10px; background-color: blue; border: 1px solid gray;\"></td><td style=\"width: 10px; height: 10px; background-color: blue; border: 1px solid gray;\"></td><td style=\"width: 10px; height: 10px; background-color: blue; border: 1px solid gray;\"></td><td style=\"width: 10px; height: 10px; background-color: blue; border: 1px solid gray;\"></td><td style=\"width: 10px; height: 10px; background-color: blue; border: 1px solid gray;\"></td><td style=\"width: 10px; height: 10px; background-color: black; border: 1px solid gray;\"></td><td style=\"width: 10px; height: 10px; background-color: blue; border: 1px solid gray;\"></td><td style=\"width: 10px; height: 10px; background-color: blue; border: 1px solid gray;\"></td><td style=\"width: 10px; height: 10px; background-color: blue; border: 1px solid gray;\"></td><td style=\"width: 10px; height: 10px; background-color: blue; border: 1px solid gray;\"></td><td style=\"width: 10px; height: 10px; background-color: blue; border: 1px solid gray;\"></td><td style=\"width: 10px; height: 10px; background-color: blue; border: 1px solid gray;\"></td><td style=\"width: 10px; height: 10px; background-color: blue; border: 1px solid gray;\"></td><td style=\"width: 10px; height: 10px; background-color: blue; border: 1px solid gray;\"></td><td style=\"width: 10px; height: 10px; background-color: blue; border: 1px solid gray;\"></td><td style=\"width: 10px; height: 10px; background-color: black; border: 1px solid gray;\"></td><td style=\"width: 10px; height: 10px; background-color: blue; border: 1px solid gray;\"></td><td style=\"width: 10px; height: 10px; background-color: black; border: 1px solid gray;\"></td><td style=\"width: 10px; height: 10px; background-color: blue; border: 1px solid gray;\"></td></tr><tr><td style=\"width: 10px; height: 10px; background-color: blue; border: 1px solid gray;\"></td><td style=\"width: 10px; height: 10px; background-color: black; border: 1px solid gray;\"></td><td style=\"width: 10px; height: 10px; background-color: black; border: 1px solid gray;\"></td><td style=\"width: 10px; height: 10px; background-color: black; border: 1px solid gray;\"></td><td style=\"width: 10px; height: 10px; background-color: blue; border: 1px solid gray;\"></td><td style=\"width: 10px; height: 10px; background-color: black; border: 1px solid gray;\"></td><td style=\"width: 10px; height: 10px; background-color: black; border: 1px solid gray;\"></td><td style=\"width: 10px; height: 10px; background-color: black; border: 1px solid gray;\"></td><td style=\"width: 10px; height: 10px; background-color: black; border: 1px solid gray;\"></td><td style=\"width: 10px; height: 10px; background-color: black; border: 1px solid gray;\"></td><td style=\"width: 10px; height: 10px; background-color: black; border: 1px solid gray;\"></td><td style=\"width: 10px; height: 10px; background-color: black; border: 1px solid gray;\"></td><td style=\"width: 10px; height: 10px; background-color: black; border: 1px solid gray;\"></td><td style=\"width: 10px; height: 10px; background-color: black; border: 1px solid gray;\"></td><td style=\"width: 10px; height: 10px; background-color: black; border: 1px solid gray;\"></td><td style=\"width: 10px; height: 10px; background-color: black; border: 1px solid gray;\"></td><td style=\"width: 10px; height: 10px; background-color: blue; border: 1px solid gray;\"></td><td style=\"width: 10px; height: 10px; background-color: black; border: 1px solid gray;\"></td><td style=\"width: 10px; height: 10px; background-color: blue; border: 1px solid gray;\"></td></tr><tr><td style=\"width: 10px; height: 10px; background-color: blue; border: 1px solid gray;\"></td><td style=\"width: 10px; height: 10px; background-color: blue; border: 1px solid gray;\"></td><td style=\"width: 10px; height: 10px; background-color: blue; border: 1px solid gray;\"></td><td style=\"width: 10px; height: 10px; background-color: black; border: 1px solid gray;\"></td><td style=\"width: 10px; height: 10px; background-color: blue; border: 1px solid gray;\"></td><td style=\"width: 10px; height: 10px; background-color: blue; border: 1px solid gray;\"></td><td style=\"width: 10px; height: 10px; background-color: blue; border: 1px solid gray;\"></td><td style=\"width: 10px; height: 10px; background-color: blue; border: 1px solid gray;\"></td><td style=\"width: 10px; height: 10px; background-color: blue; border: 1px solid gray;\"></td><td style=\"width: 10px; height: 10px; background-color: blue; border: 1px solid gray;\"></td><td style=\"width: 10px; height: 10px; background-color: blue; border: 1px solid gray;\"></td><td style=\"width: 10px; height: 10px; background-color: blue; border: 1px solid gray;\"></td><td style=\"width: 10px; height: 10px; background-color: blue; border: 1px solid gray;\"></td><td style=\"width: 10px; height: 10px; background-color: blue; border: 1px solid gray;\"></td><td style=\"width: 10px; height: 10px; background-color: red; border: 1px solid gray;\"></td><td style=\"width: 10px; height: 10px; background-color: black; border: 1px solid gray;\"></td><td style=\"width: 10px; height: 10px; background-color: blue; border: 1px solid gray;\"></td><td style=\"width: 10px; height: 10px; background-color: blue; border: 1px solid gray;\"></td><td style=\"width: 10px; height: 10px; background-color: blue; border: 1px solid gray;\"></td></tr><tr><td style=\"width: 10px; height: 10px; background-color: black; border: 1px solid gray;\"></td><td style=\"width: 10px; height: 10px; background-color: black; border: 1px solid gray;\"></td><td style=\"width: 10px; height: 10px; background-color: blue; border: 1px solid gray;\"></td><td style=\"width: 10px; height: 10px; background-color: black; border: 1px solid gray;\"></td><td style=\"width: 10px; height: 10px; background-color: black; border: 1px solid gray;\"></td><td style=\"width: 10px; height: 10px; background-color: black; border: 1px solid gray;\"></td><td style=\"width: 10px; height: 10px; background-color: black; border: 1px solid gray;\"></td><td style=\"width: 10px; height: 10px; background-color: black; border: 1px solid gray;\"></td><td style=\"width: 10px; height: 10px; background-color: black; border: 1px solid gray;\"></td><td style=\"width: 10px; height: 10px; background-color: black; border: 1px solid gray;\"></td><td style=\"width: 10px; height: 10px; background-color: black; border: 1px solid gray;\"></td><td style=\"width: 10px; height: 10px; background-color: black; border: 1px solid gray;\"></td><td style=\"width: 10px; height: 10px; background-color: black; border: 1px solid gray;\"></td><td style=\"width: 10px; height: 10px; background-color: black; border: 1px solid gray;\"></td><td style=\"width: 10px; height: 10px; background-color: black; border: 1px solid gray;\"></td><td style=\"width: 10px; height: 10px; background-color: black; border: 1px solid gray;\"></td><td style=\"width: 10px; height: 10px; background-color: black; border: 1px solid gray;\"></td><td style=\"width: 10px; height: 10px; background-color: black; border: 1px solid gray;\"></td><td style=\"width: 10px; height: 10px; background-color: blue; border: 1px solid gray;\"></td></tr><tr><td style=\"width: 10px; height: 10px; background-color: blue; border: 1px solid gray;\"></td><td style=\"width: 10px; height: 10px; background-color: blue; border: 1px solid gray;\"></td><td style=\"width: 10px; height: 10px; background-color: blue; border: 1px solid gray;\"></td><td style=\"width: 10px; height: 10px; background-color: black; border: 1px solid gray;\"></td><td style=\"width: 10px; height: 10px; background-color: blue; border: 1px solid gray;\"></td><td style=\"width: 10px; height: 10px; background-color: blue; border: 1px solid gray;\"></td><td style=\"width: 10px; height: 10px; background-color: blue; border: 1px solid gray;\"></td><td style=\"width: 10px; height: 10px; background-color: black; border: 1px solid gray;\"></td><td style=\"width: 10px; height: 10px; background-color: blue; border: 1px solid gray;\"></td><td style=\"width: 10px; height: 10px; background-color: blue; border: 1px solid gray;\"></td><td style=\"width: 10px; height: 10px; background-color: blue; border: 1px solid gray;\"></td><td style=\"width: 10px; height: 10px; background-color: blue; border: 1px solid gray;\"></td><td style=\"width: 10px; height: 10px; background-color: blue; border: 1px solid gray;\"></td><td style=\"width: 10px; height: 10px; background-color: blue; border: 1px solid gray;\"></td><td style=\"width: 10px; height: 10px; background-color: blue; border: 1px solid gray;\"></td><td style=\"width: 10px; height: 10px; background-color: black; border: 1px solid gray;\"></td><td style=\"width: 10px; height: 10px; background-color: blue; border: 1px solid gray;\"></td><td style=\"width: 10px; height: 10px; background-color: black; border: 1px solid gray;\"></td><td style=\"width: 10px; height: 10px; background-color: blue; border: 1px solid gray;\"></td></tr><tr><td style=\"width: 10px; height: 10px; background-color: blue; border: 1px solid gray;\"></td><td style=\"width: 10px; height: 10px; background-color: black; border: 1px solid gray;\"></td><td style=\"width: 10px; height: 10px; background-color: black; border: 1px solid gray;\"></td><td style=\"width: 10px; height: 10px; background-color: black; border: 1px solid gray;\"></td><td style=\"width: 10px; height: 10px; background-color: blue; border: 1px solid gray;\"></td><td style=\"width: 10px; height: 10px; background-color: black; border: 1px solid gray;\"></td><td style=\"width: 10px; height: 10px; background-color: blue; border: 1px solid gray;\"></td><td style=\"width: 10px; height: 10px; background-color: black; border: 1px solid gray;\"></td><td style=\"width: 10px; height: 10px; background-color: blue; border: 1px solid gray;\"></td><td style=\"width: 10px; height: 10px; background-color: black; border: 1px solid gray;\"></td><td style=\"width: 10px; height: 10px; background-color: black; border: 1px solid gray;\"></td><td style=\"width: 10px; height: 10px; background-color: black; border: 1px solid gray;\"></td><td style=\"width: 10px; height: 10px; background-color: black; border: 1px solid gray;\"></td><td style=\"width: 10px; height: 10px; background-color: black; border: 1px solid gray;\"></td><td style=\"width: 10px; height: 10px; background-color: blue; border: 1px solid gray;\"></td><td style=\"width: 10px; height: 10px; background-color: black; border: 1px solid gray;\"></td><td style=\"width: 10px; height: 10px; background-color: blue; border: 1px solid gray;\"></td><td style=\"width: 10px; height: 10px; background-color: black; border: 1px solid gray;\"></td><td style=\"width: 10px; height: 10px; background-color: blue; border: 1px solid gray;\"></td></tr><tr><td style=\"width: 10px; height: 10px; background-color: blue; border: 1px solid gray;\"></td><td style=\"width: 10px; height: 10px; background-color: blue; border: 1px solid gray;\"></td><td style=\"width: 10px; height: 10px; background-color: blue; border: 1px solid gray;\"></td><td style=\"width: 10px; height: 10px; background-color: black; border: 1px solid gray;\"></td><td style=\"width: 10px; height: 10px; background-color: blue; border: 1px solid gray;\"></td><td style=\"width: 10px; height: 10px; background-color: black; border: 1px solid gray;\"></td><td style=\"width: 10px; height: 10px; background-color: blue; border: 1px solid gray;\"></td><td style=\"width: 10px; height: 10px; background-color: blue; border: 1px solid gray;\"></td><td style=\"width: 10px; height: 10px; background-color: blue; border: 1px solid gray;\"></td><td style=\"width: 10px; height: 10px; background-color: blue; border: 1px solid gray;\"></td><td style=\"width: 10px; height: 10px; background-color: blue; border: 1px solid gray;\"></td><td style=\"width: 10px; height: 10px; background-color: blue; border: 1px solid gray;\"></td><td style=\"width: 10px; height: 10px; background-color: blue; border: 1px solid gray;\"></td><td style=\"width: 10px; height: 10px; background-color: black; border: 1px solid gray;\"></td><td style=\"width: 10px; height: 10px; background-color: blue; border: 1px solid gray;\"></td><td style=\"width: 10px; height: 10px; background-color: black; border: 1px solid gray;\"></td><td style=\"width: 10px; height: 10px; background-color: blue; border: 1px solid gray;\"></td><td style=\"width: 10px; height: 10px; background-color: blue; border: 1px solid gray;\"></td><td style=\"width: 10px; height: 10px; background-color: blue; border: 1px solid gray;\"></td></tr><tr><td style=\"width: 10px; height: 10px; background-color: blue; border: 1px solid gray;\"></td><td style=\"width: 10px; height: 10px; background-color: black; border: 1px solid gray;\"></td><td style=\"width: 10px; height: 10px; background-color: blue; border: 1px solid gray;\"></td><td style=\"width: 10px; height: 10px; background-color: black; border: 1px solid gray;\"></td><td style=\"width: 10px; height: 10px; background-color: blue; border: 1px solid gray;\"></td><td style=\"width: 10px; height: 10px; background-color: black; border: 1px solid gray;\"></td><td style=\"width: 10px; height: 10px; background-color: black; border: 1px solid gray;\"></td><td style=\"width: 10px; height: 10px; background-color: black; border: 1px solid gray;\"></td><td style=\"width: 10px; height: 10px; background-color: black; border: 1px solid gray;\"></td><td style=\"width: 10px; height: 10px; background-color: black; border: 1px solid gray;\"></td><td style=\"width: 10px; height: 10px; background-color: black; border: 1px solid gray;\"></td><td style=\"width: 10px; height: 10px; background-color: black; border: 1px solid gray;\"></td><td style=\"width: 10px; height: 10px; background-color: black; border: 1px solid gray;\"></td><td style=\"width: 10px; height: 10px; background-color: black; border: 1px solid gray;\"></td><td style=\"width: 10px; height: 10px; background-color: blue; border: 1px solid gray;\"></td><td style=\"width: 10px; height: 10px; background-color: black; border: 1px solid gray;\"></td><td style=\"width: 10px; height: 10px; background-color: blue; border: 1px solid gray;\"></td><td style=\"width: 10px; height: 10px; background-color: black; border: 1px solid gray;\"></td><td style=\"width: 10px; height: 10px; background-color: black; border: 1px solid gray;\"></td></tr><tr><td style=\"width: 10px; height: 10px; background-color: blue; border: 1px solid gray;\"></td><td style=\"width: 10px; height: 10px; background-color: black; border: 1px solid gray;\"></td><td style=\"width: 10px; height: 10px; background-color: blue; border: 1px solid gray;\"></td><td style=\"width: 10px; height: 10px; background-color: blue; border: 1px solid gray;\"></td><td style=\"width: 10px; height: 10px; background-color: blue; border: 1px solid gray;\"></td><td style=\"width: 10px; height: 10px; background-color: black; border: 1px solid gray;\"></td><td style=\"width: 10px; height: 10px; background-color: blue; border: 1px solid gray;\"></td><td style=\"width: 10px; height: 10px; background-color: blue; border: 1px solid gray;\"></td><td style=\"width: 10px; height: 10px; background-color: blue; border: 1px solid gray;\"></td><td style=\"width: 10px; height: 10px; background-color: black; border: 1px solid gray;\"></td><td style=\"width: 10px; height: 10px; background-color: blue; border: 1px solid gray;\"></td><td style=\"width: 10px; height: 10px; background-color: blue; border: 1px solid gray;\"></td><td style=\"width: 10px; height: 10px; background-color: blue; border: 1px solid gray;\"></td><td style=\"width: 10px; height: 10px; background-color: blue; border: 1px solid gray;\"></td><td style=\"width: 10px; height: 10px; background-color: blue; border: 1px solid gray;\"></td><td style=\"width: 10px; height: 10px; background-color: black; border: 1px solid gray;\"></td><td style=\"width: 10px; height: 10px; background-color: blue; border: 1px solid gray;\"></td><td style=\"width: 10px; height: 10px; background-color: black; border: 1px solid gray;\"></td><td style=\"width: 10px; height: 10px; background-color: blue; border: 1px solid gray;\"></td></tr><tr><td style=\"width: 10px; height: 10px; background-color: blue; border: 1px solid gray;\"></td><td style=\"width: 10px; height: 10px; background-color: black; border: 1px solid gray;\"></td><td style=\"width: 10px; height: 10px; background-color: black; border: 1px solid gray;\"></td><td style=\"width: 10px; height: 10px; background-color: black; border: 1px solid gray;\"></td><td style=\"width: 10px; height: 10px; background-color: black; border: 1px solid gray;\"></td><td style=\"width: 10px; height: 10px; background-color: black; border: 1px solid gray;\"></td><td style=\"width: 10px; height: 10px; background-color: black; border: 1px solid gray;\"></td><td style=\"width: 10px; height: 10px; background-color: black; border: 1px solid gray;\"></td><td style=\"width: 10px; height: 10px; background-color: blue; border: 1px solid gray;\"></td><td style=\"width: 10px; height: 10px; background-color: black; border: 1px solid gray;\"></td><td style=\"width: 10px; height: 10px; background-color: blue; border: 1px solid gray;\"></td><td style=\"width: 10px; height: 10px; background-color: black; border: 1px solid gray;\"></td><td style=\"width: 10px; height: 10px; background-color: black; border: 1px solid gray;\"></td><td style=\"width: 10px; height: 10px; background-color: black; border: 1px solid gray;\"></td><td style=\"width: 10px; height: 10px; background-color: blue; border: 1px solid gray;\"></td><td style=\"width: 10px; height: 10px; background-color: black; border: 1px solid gray;\"></td><td style=\"width: 10px; height: 10px; background-color: blue; border: 1px solid gray;\"></td><td style=\"width: 10px; height: 10px; background-color: black; border: 1px solid gray;\"></td><td style=\"width: 10px; height: 10px; background-color: blue; border: 1px solid gray;\"></td></tr><tr><td style=\"width: 10px; height: 10px; background-color: blue; border: 1px solid gray;\"></td><td style=\"width: 10px; height: 10px; background-color: black; border: 1px solid gray;\"></td><td style=\"width: 10px; height: 10px; background-color: blue; border: 1px solid gray;\"></td><td style=\"width: 10px; height: 10px; background-color: blue; border: 1px solid gray;\"></td><td style=\"width: 10px; height: 10px; background-color: blue; border: 1px solid gray;\"></td><td style=\"width: 10px; height: 10px; background-color: blue; border: 1px solid gray;\"></td><td style=\"width: 10px; height: 10px; background-color: blue; border: 1px solid gray;\"></td><td style=\"width: 10px; height: 10px; background-color: black; border: 1px solid gray;\"></td><td style=\"width: 10px; height: 10px; background-color: blue; border: 1px solid gray;\"></td><td style=\"width: 10px; height: 10px; background-color: black; border: 1px solid gray;\"></td><td style=\"width: 10px; height: 10px; background-color: blue; border: 1px solid gray;\"></td><td style=\"width: 10px; height: 10px; background-color: blue; border: 1px solid gray;\"></td><td style=\"width: 10px; height: 10px; background-color: blue; border: 1px solid gray;\"></td><td style=\"width: 10px; height: 10px; background-color: black; border: 1px solid gray;\"></td><td style=\"width: 10px; height: 10px; background-color: blue; border: 1px solid gray;\"></td><td style=\"width: 10px; height: 10px; background-color: black; border: 1px solid gray;\"></td><td style=\"width: 10px; height: 10px; background-color: blue; border: 1px solid gray;\"></td><td style=\"width: 10px; height: 10px; background-color: blue; border: 1px solid gray;\"></td><td style=\"width: 10px; height: 10px; background-color: blue; border: 1px solid gray;\"></td></tr><tr><td style=\"width: 10px; height: 10px; background-color: blue; border: 1px solid gray;\"></td><td style=\"width: 10px; height: 10px; background-color: black; border: 1px solid gray;\"></td><td style=\"width: 10px; height: 10px; background-color: blue; border: 1px solid gray;\"></td><td style=\"width: 10px; height: 10px; background-color: black; border: 1px solid gray;\"></td><td style=\"width: 10px; height: 10px; background-color: black; border: 1px solid gray;\"></td><td style=\"width: 10px; height: 10px; background-color: black; border: 1px solid gray;\"></td><td style=\"width: 10px; height: 10px; background-color: blue; border: 1px solid gray;\"></td><td style=\"width: 10px; height: 10px; background-color: black; border: 1px solid gray;\"></td><td style=\"width: 10px; height: 10px; background-color: blue; border: 1px solid gray;\"></td><td style=\"width: 10px; height: 10px; background-color: black; border: 1px solid gray;\"></td><td style=\"width: 10px; height: 10px; background-color: black; border: 1px solid gray;\"></td><td style=\"width: 10px; height: 10px; background-color: black; border: 1px solid gray;\"></td><td style=\"width: 10px; height: 10px; background-color: blue; border: 1px solid gray;\"></td><td style=\"width: 10px; height: 10px; background-color: black; border: 1px solid gray;\"></td><td style=\"width: 10px; height: 10px; background-color: black; border: 1px solid gray;\"></td><td style=\"width: 10px; height: 10px; background-color: black; border: 1px solid gray;\"></td><td style=\"width: 10px; height: 10px; background-color: black; border: 1px solid gray;\"></td><td style=\"width: 10px; height: 10px; background-color: black; border: 1px solid gray;\"></td><td style=\"width: 10px; height: 10px; background-color: blue; border: 1px solid gray;\"></td></tr><tr><td style=\"width: 10px; height: 10px; background-color: blue; border: 1px solid gray;\"></td><td style=\"width: 10px; height: 10px; background-color: black; border: 1px solid gray;\"></td><td style=\"width: 10px; height: 10px; background-color: blue; border: 1px solid gray;\"></td><td style=\"width: 10px; height: 10px; background-color: black; border: 1px solid gray;\"></td><td style=\"width: 10px; height: 10px; background-color: blue; border: 1px solid gray;\"></td><td style=\"width: 10px; height: 10px; background-color: blue; border: 1px solid gray;\"></td><td style=\"width: 10px; height: 10px; background-color: blue; border: 1px solid gray;\"></td><td style=\"width: 10px; height: 10px; background-color: black; border: 1px solid gray;\"></td><td style=\"width: 10px; height: 10px; background-color: blue; border: 1px solid gray;\"></td><td style=\"width: 10px; height: 10px; background-color: blue; border: 1px solid gray;\"></td><td style=\"width: 10px; height: 10px; background-color: blue; border: 1px solid gray;\"></td><td style=\"width: 10px; height: 10px; background-color: black; border: 1px solid gray;\"></td><td style=\"width: 10px; height: 10px; background-color: blue; border: 1px solid gray;\"></td><td style=\"width: 10px; height: 10px; background-color: blue; border: 1px solid gray;\"></td><td style=\"width: 10px; height: 10px; background-color: blue; border: 1px solid gray;\"></td><td style=\"width: 10px; height: 10px; background-color: blue; border: 1px solid gray;\"></td><td style=\"width: 10px; height: 10px; background-color: blue; border: 1px solid gray;\"></td><td style=\"width: 10px; height: 10px; background-color: black; border: 1px solid gray;\"></td><td style=\"width: 10px; height: 10px; background-color: blue; border: 1px solid gray;\"></td></tr><tr><td style=\"width: 10px; height: 10px; background-color: blue; border: 1px solid gray;\"></td><td style=\"width: 10px; height: 10px; background-color: black; border: 1px solid gray;\"></td><td style=\"width: 10px; height: 10px; background-color: blue; border: 1px solid gray;\"></td><td style=\"width: 10px; height: 10px; background-color: black; border: 1px solid gray;\"></td><td style=\"width: 10px; height: 10px; background-color: blue; border: 1px solid gray;\"></td><td style=\"width: 10px; height: 10px; background-color: black; border: 1px solid gray;\"></td><td style=\"width: 10px; height: 10px; background-color: black; border: 1px solid gray;\"></td><td style=\"width: 10px; height: 10px; background-color: black; border: 1px solid gray;\"></td><td style=\"width: 10px; height: 10px; background-color: black; border: 1px solid gray;\"></td><td style=\"width: 10px; height: 10px; background-color: black; border: 1px solid gray;\"></td><td style=\"width: 10px; height: 10px; background-color: blue; border: 1px solid gray;\"></td><td style=\"width: 10px; height: 10px; background-color: black; border: 1px solid gray;\"></td><td style=\"width: 10px; height: 10px; background-color: black; border: 1px solid gray;\"></td><td style=\"width: 10px; height: 10px; background-color: black; border: 1px solid gray;\"></td><td style=\"width: 10px; height: 10px; background-color: black; border: 1px solid gray;\"></td><td style=\"width: 10px; height: 10px; background-color: black; border: 1px solid gray;\"></td><td style=\"width: 10px; height: 10px; background-color: blue; border: 1px solid gray;\"></td><td style=\"width: 10px; height: 10px; background-color: black; border: 1px solid gray;\"></td><td style=\"width: 10px; height: 10px; background-color: blue; border: 1px solid gray;\"></td></tr><tr><td style=\"width: 10px; height: 10px; background-color: blue; border: 1px solid gray;\"></td><td style=\"width: 10px; height: 10px; background-color: blue; border: 1px solid gray;\"></td><td style=\"width: 10px; height: 10px; background-color: blue; border: 1px solid gray;\"></td><td style=\"width: 10px; height: 10px; background-color: black; border: 1px solid gray;\"></td><td style=\"width: 10px; height: 10px; background-color: blue; border: 1px solid gray;\"></td><td style=\"width: 10px; height: 10px; background-color: blue; border: 1px solid gray;\"></td><td style=\"width: 10px; height: 10px; background-color: blue; border: 1px solid gray;\"></td><td style=\"width: 10px; height: 10px; background-color: blue; border: 1px solid gray;\"></td><td style=\"width: 10px; height: 10px; background-color: blue; border: 1px solid gray;\"></td><td style=\"width: 10px; height: 10px; background-color: blue; border: 1px solid gray;\"></td><td style=\"width: 10px; height: 10px; background-color: blue; border: 1px solid gray;\"></td><td style=\"width: 10px; height: 10px; background-color: blue; border: 1px solid gray;\"></td><td style=\"width: 10px; height: 10px; background-color: blue; border: 1px solid gray;\"></td><td style=\"width: 10px; height: 10px; background-color: blue; border: 1px solid gray;\"></td><td style=\"width: 10px; height: 10px; background-color: blue; border: 1px solid gray;\"></td><td style=\"width: 10px; height: 10px; background-color: black; border: 1px solid gray;\"></td><td style=\"width: 10px; height: 10px; background-color: blue; border: 1px solid gray;\"></td><td style=\"width: 10px; height: 10px; background-color: blue; border: 1px solid gray;\"></td><td style=\"width: 10px; height: 10px; background-color: blue; border: 1px solid gray;\"></td></tr></table>"
      ],
      "text/plain": [
       "<IPython.core.display.HTML object>"
      ]
     },
     "metadata": {},
     "output_type": "display_data"
    }
   ],
   "source": [
    "display_colored_grid(maze)"
   ]
  },
  {
   "cell_type": "code",
   "execution_count": 58,
   "metadata": {},
   "outputs": [],
   "source": [
    "from collections import deque\n",
    "\n",
    "def BFS(maze, start_cell=(0, 0)):\n",
    "    queue = deque([start_cell])\n",
    "    visited = set()\n",
    "    directions = [(0, 1), (1, 0), (0, -1), (-1, 0)]  \n",
    "    \n",
    "    def is_valid(cell):\n",
    "        x, y = cell\n",
    "        return 0 <= x < grid_length and 0 <= y < grid_height and maze[x][y] != 1 and cell not in visited\n",
    "    \n",
    "    while queue:\n",
    "        current_cell = queue.popleft()\n",
    "        x, y = current_cell\n",
    "        \n",
    "        if maze[x][y] == 99:\n",
    "            print(f\"Target found at {current_cell}\")\n",
    "            return True\n",
    "        \n",
    "        visited.add(current_cell)\n",
    "        maze[x][y] = 2  \n",
    "        \n",
    "        for dx, dy in directions:\n",
    "            new_cell = (x + dx, y + dy)\n",
    "            if is_valid(new_cell):\n",
    "                queue.append(new_cell)\n",
    "                visited.add(new_cell)  \n",
    "    \n",
    "    print(\"Target not found in the maze.\")\n",
    "    return False"
   ]
  },
  {
   "cell_type": "code",
   "execution_count": 51,
   "metadata": {},
   "outputs": [
    {
     "name": "stdout",
     "output_type": "stream",
     "text": [
      "Target found at (12, 14)\n"
     ]
    },
    {
     "data": {
      "text/plain": [
       "True"
      ]
     },
     "execution_count": 51,
     "metadata": {},
     "output_type": "execute_result"
    }
   ],
   "source": [
    "BFS(maze)"
   ]
  },
  {
   "cell_type": "code",
   "execution_count": 53,
   "metadata": {},
   "outputs": [
    {
     "data": {
      "text/html": [
       "<table style=\"border-collapse: collapse;\"><tr><td style=\"width: 10px; height: 10px; background-color: green; border: 1px solid gray;\"></td><td style=\"width: 10px; height: 10px; background-color: green; border: 1px solid gray;\"></td><td style=\"width: 10px; height: 10px; background-color: green; border: 1px solid gray;\"></td><td style=\"width: 10px; height: 10px; background-color: black; border: 1px solid gray;\"></td><td style=\"width: 10px; height: 10px; background-color: green; border: 1px solid gray;\"></td><td style=\"width: 10px; height: 10px; background-color: green; border: 1px solid gray;\"></td><td style=\"width: 10px; height: 10px; background-color: green; border: 1px solid gray;\"></td><td style=\"width: 10px; height: 10px; background-color: green; border: 1px solid gray;\"></td><td style=\"width: 10px; height: 10px; background-color: green; border: 1px solid gray;\"></td><td style=\"width: 10px; height: 10px; background-color: green; border: 1px solid gray;\"></td><td style=\"width: 10px; height: 10px; background-color: green; border: 1px solid gray;\"></td><td style=\"width: 10px; height: 10px; background-color: black; border: 1px solid gray;\"></td><td style=\"width: 10px; height: 10px; background-color: green; border: 1px solid gray;\"></td><td style=\"width: 10px; height: 10px; background-color: green; border: 1px solid gray;\"></td><td style=\"width: 10px; height: 10px; background-color: green; border: 1px solid gray;\"></td><td style=\"width: 10px; height: 10px; background-color: green; border: 1px solid gray;\"></td><td style=\"width: 10px; height: 10px; background-color: green; border: 1px solid gray;\"></td></tr><tr><td style=\"width: 10px; height: 10px; background-color: black; border: 1px solid gray;\"></td><td style=\"width: 10px; height: 10px; background-color: black; border: 1px solid gray;\"></td><td style=\"width: 10px; height: 10px; background-color: green; border: 1px solid gray;\"></td><td style=\"width: 10px; height: 10px; background-color: black; border: 1px solid gray;\"></td><td style=\"width: 10px; height: 10px; background-color: black; border: 1px solid gray;\"></td><td style=\"width: 10px; height: 10px; background-color: black; border: 1px solid gray;\"></td><td style=\"width: 10px; height: 10px; background-color: green; border: 1px solid gray;\"></td><td style=\"width: 10px; height: 10px; background-color: black; border: 1px solid gray;\"></td><td style=\"width: 10px; height: 10px; background-color: black; border: 1px solid gray;\"></td><td style=\"width: 10px; height: 10px; background-color: black; border: 1px solid gray;\"></td><td style=\"width: 10px; height: 10px; background-color: green; border: 1px solid gray;\"></td><td style=\"width: 10px; height: 10px; background-color: black; border: 1px solid gray;\"></td><td style=\"width: 10px; height: 10px; background-color: green; border: 1px solid gray;\"></td><td style=\"width: 10px; height: 10px; background-color: black; border: 1px solid gray;\"></td><td style=\"width: 10px; height: 10px; background-color: black; border: 1px solid gray;\"></td><td style=\"width: 10px; height: 10px; background-color: black; border: 1px solid gray;\"></td><td style=\"width: 10px; height: 10px; background-color: green; border: 1px solid gray;\"></td></tr><tr><td style=\"width: 10px; height: 10px; background-color: white; border: 1px solid gray;\"></td><td style=\"width: 10px; height: 10px; background-color: black; border: 1px solid gray;\"></td><td style=\"width: 10px; height: 10px; background-color: green; border: 1px solid gray;\"></td><td style=\"width: 10px; height: 10px; background-color: green; border: 1px solid gray;\"></td><td style=\"width: 10px; height: 10px; background-color: green; border: 1px solid gray;\"></td><td style=\"width: 10px; height: 10px; background-color: green; border: 1px solid gray;\"></td><td style=\"width: 10px; height: 10px; background-color: green; border: 1px solid gray;\"></td><td style=\"width: 10px; height: 10px; background-color: black; border: 1px solid gray;\"></td><td style=\"width: 10px; height: 10px; background-color: green; border: 1px solid gray;\"></td><td style=\"width: 10px; height: 10px; background-color: green; border: 1px solid gray;\"></td><td style=\"width: 10px; height: 10px; background-color: green; border: 1px solid gray;\"></td><td style=\"width: 10px; height: 10px; background-color: black; border: 1px solid gray;\"></td><td style=\"width: 10px; height: 10px; background-color: green; border: 1px solid gray;\"></td><td style=\"width: 10px; height: 10px; background-color: black; border: 1px solid gray;\"></td><td style=\"width: 10px; height: 10px; background-color: green; border: 1px solid gray;\"></td><td style=\"width: 10px; height: 10px; background-color: green; border: 1px solid gray;\"></td><td style=\"width: 10px; height: 10px; background-color: green; border: 1px solid gray;\"></td></tr><tr><td style=\"width: 10px; height: 10px; background-color: white; border: 1px solid gray;\"></td><td style=\"width: 10px; height: 10px; background-color: black; border: 1px solid gray;\"></td><td style=\"width: 10px; height: 10px; background-color: black; border: 1px solid gray;\"></td><td style=\"width: 10px; height: 10px; background-color: black; border: 1px solid gray;\"></td><td style=\"width: 10px; height: 10px; background-color: black; border: 1px solid gray;\"></td><td style=\"width: 10px; height: 10px; background-color: black; border: 1px solid gray;\"></td><td style=\"width: 10px; height: 10px; background-color: black; border: 1px solid gray;\"></td><td style=\"width: 10px; height: 10px; background-color: black; border: 1px solid gray;\"></td><td style=\"width: 10px; height: 10px; background-color: green; border: 1px solid gray;\"></td><td style=\"width: 10px; height: 10px; background-color: black; border: 1px solid gray;\"></td><td style=\"width: 10px; height: 10px; background-color: black; border: 1px solid gray;\"></td><td style=\"width: 10px; height: 10px; background-color: black; border: 1px solid gray;\"></td><td style=\"width: 10px; height: 10px; background-color: white; border: 1px solid gray;\"></td><td style=\"width: 10px; height: 10px; background-color: black; border: 1px solid gray;\"></td><td style=\"width: 10px; height: 10px; background-color: green; border: 1px solid gray;\"></td><td style=\"width: 10px; height: 10px; background-color: black; border: 1px solid gray;\"></td><td style=\"width: 10px; height: 10px; background-color: black; border: 1px solid gray;\"></td></tr><tr><td style=\"width: 10px; height: 10px; background-color: white; border: 1px solid gray;\"></td><td style=\"width: 10px; height: 10px; background-color: white; border: 1px solid gray;\"></td><td style=\"width: 10px; height: 10px; background-color: white; border: 1px solid gray;\"></td><td style=\"width: 10px; height: 10px; background-color: white; border: 1px solid gray;\"></td><td style=\"width: 10px; height: 10px; background-color: white; border: 1px solid gray;\"></td><td style=\"width: 10px; height: 10px; background-color: white; border: 1px solid gray;\"></td><td style=\"width: 10px; height: 10px; background-color: white; border: 1px solid gray;\"></td><td style=\"width: 10px; height: 10px; background-color: black; border: 1px solid gray;\"></td><td style=\"width: 10px; height: 10px; background-color: green; border: 1px solid gray;\"></td><td style=\"width: 10px; height: 10px; background-color: green; border: 1px solid gray;\"></td><td style=\"width: 10px; height: 10px; background-color: green; border: 1px solid gray;\"></td><td style=\"width: 10px; height: 10px; background-color: black; border: 1px solid gray;\"></td><td style=\"width: 10px; height: 10px; background-color: white; border: 1px solid gray;\"></td><td style=\"width: 10px; height: 10px; background-color: black; border: 1px solid gray;\"></td><td style=\"width: 10px; height: 10px; background-color: green; border: 1px solid gray;\"></td><td style=\"width: 10px; height: 10px; background-color: green; border: 1px solid gray;\"></td><td style=\"width: 10px; height: 10px; background-color: green; border: 1px solid gray;\"></td></tr><tr><td style=\"width: 10px; height: 10px; background-color: white; border: 1px solid gray;\"></td><td style=\"width: 10px; height: 10px; background-color: black; border: 1px solid gray;\"></td><td style=\"width: 10px; height: 10px; background-color: white; border: 1px solid gray;\"></td><td style=\"width: 10px; height: 10px; background-color: black; border: 1px solid gray;\"></td><td style=\"width: 10px; height: 10px; background-color: black; border: 1px solid gray;\"></td><td style=\"width: 10px; height: 10px; background-color: black; border: 1px solid gray;\"></td><td style=\"width: 10px; height: 10px; background-color: white; border: 1px solid gray;\"></td><td style=\"width: 10px; height: 10px; background-color: black; border: 1px solid gray;\"></td><td style=\"width: 10px; height: 10px; background-color: black; border: 1px solid gray;\"></td><td style=\"width: 10px; height: 10px; background-color: black; border: 1px solid gray;\"></td><td style=\"width: 10px; height: 10px; background-color: green; border: 1px solid gray;\"></td><td style=\"width: 10px; height: 10px; background-color: black; border: 1px solid gray;\"></td><td style=\"width: 10px; height: 10px; background-color: black; border: 1px solid gray;\"></td><td style=\"width: 10px; height: 10px; background-color: black; border: 1px solid gray;\"></td><td style=\"width: 10px; height: 10px; background-color: black; border: 1px solid gray;\"></td><td style=\"width: 10px; height: 10px; background-color: black; border: 1px solid gray;\"></td><td style=\"width: 10px; height: 10px; background-color: green; border: 1px solid gray;\"></td></tr><tr><td style=\"width: 10px; height: 10px; background-color: white; border: 1px solid gray;\"></td><td style=\"width: 10px; height: 10px; background-color: black; border: 1px solid gray;\"></td><td style=\"width: 10px; height: 10px; background-color: white; border: 1px solid gray;\"></td><td style=\"width: 10px; height: 10px; background-color: white; border: 1px solid gray;\"></td><td style=\"width: 10px; height: 10px; background-color: white; border: 1px solid gray;\"></td><td style=\"width: 10px; height: 10px; background-color: black; border: 1px solid gray;\"></td><td style=\"width: 10px; height: 10px; background-color: white; border: 1px solid gray;\"></td><td style=\"width: 10px; height: 10px; background-color: black; border: 1px solid gray;\"></td><td style=\"width: 10px; height: 10px; background-color: green; border: 1px solid gray;\"></td><td style=\"width: 10px; height: 10px; background-color: green; border: 1px solid gray;\"></td><td style=\"width: 10px; height: 10px; background-color: green; border: 1px solid gray;\"></td><td style=\"width: 10px; height: 10px; background-color: green; border: 1px solid gray;\"></td><td style=\"width: 10px; height: 10px; background-color: green; border: 1px solid gray;\"></td><td style=\"width: 10px; height: 10px; background-color: green; border: 1px solid gray;\"></td><td style=\"width: 10px; height: 10px; background-color: green; border: 1px solid gray;\"></td><td style=\"width: 10px; height: 10px; background-color: green; border: 1px solid gray;\"></td><td style=\"width: 10px; height: 10px; background-color: green; border: 1px solid gray;\"></td></tr><tr><td style=\"width: 10px; height: 10px; background-color: white; border: 1px solid gray;\"></td><td style=\"width: 10px; height: 10px; background-color: black; border: 1px solid gray;\"></td><td style=\"width: 10px; height: 10px; background-color: black; border: 1px solid gray;\"></td><td style=\"width: 10px; height: 10px; background-color: black; border: 1px solid gray;\"></td><td style=\"width: 10px; height: 10px; background-color: white; border: 1px solid gray;\"></td><td style=\"width: 10px; height: 10px; background-color: black; border: 1px solid gray;\"></td><td style=\"width: 10px; height: 10px; background-color: white; border: 1px solid gray;\"></td><td style=\"width: 10px; height: 10px; background-color: black; border: 1px solid gray;\"></td><td style=\"width: 10px; height: 10px; background-color: green; border: 1px solid gray;\"></td><td style=\"width: 10px; height: 10px; background-color: black; border: 1px solid gray;\"></td><td style=\"width: 10px; height: 10px; background-color: black; border: 1px solid gray;\"></td><td style=\"width: 10px; height: 10px; background-color: black; border: 1px solid gray;\"></td><td style=\"width: 10px; height: 10px; background-color: black; border: 1px solid gray;\"></td><td style=\"width: 10px; height: 10px; background-color: black; border: 1px solid gray;\"></td><td style=\"width: 10px; height: 10px; background-color: black; border: 1px solid gray;\"></td><td style=\"width: 10px; height: 10px; background-color: black; border: 1px solid gray;\"></td><td style=\"width: 10px; height: 10px; background-color: black; border: 1px solid gray;\"></td></tr><tr><td style=\"width: 10px; height: 10px; background-color: white; border: 1px solid gray;\"></td><td style=\"width: 10px; height: 10px; background-color: black; border: 1px solid gray;\"></td><td style=\"width: 10px; height: 10px; background-color: white; border: 1px solid gray;\"></td><td style=\"width: 10px; height: 10px; background-color: white; border: 1px solid gray;\"></td><td style=\"width: 10px; height: 10px; background-color: white; border: 1px solid gray;\"></td><td style=\"width: 10px; height: 10px; background-color: black; border: 1px solid gray;\"></td><td style=\"width: 10px; height: 10px; background-color: white; border: 1px solid gray;\"></td><td style=\"width: 10px; height: 10px; background-color: black; border: 1px solid gray;\"></td><td style=\"width: 10px; height: 10px; background-color: green; border: 1px solid gray;\"></td><td style=\"width: 10px; height: 10px; background-color: green; border: 1px solid gray;\"></td><td style=\"width: 10px; height: 10px; background-color: green; border: 1px solid gray;\"></td><td style=\"width: 10px; height: 10px; background-color: green; border: 1px solid gray;\"></td><td style=\"width: 10px; height: 10px; background-color: green; border: 1px solid gray;\"></td><td style=\"width: 10px; height: 10px; background-color: green; border: 1px solid gray;\"></td><td style=\"width: 10px; height: 10px; background-color: green; border: 1px solid gray;\"></td><td style=\"width: 10px; height: 10px; background-color: green; border: 1px solid gray;\"></td><td style=\"width: 10px; height: 10px; background-color: green; border: 1px solid gray;\"></td></tr><tr><td style=\"width: 10px; height: 10px; background-color: white; border: 1px solid gray;\"></td><td style=\"width: 10px; height: 10px; background-color: black; border: 1px solid gray;\"></td><td style=\"width: 10px; height: 10px; background-color: white; border: 1px solid gray;\"></td><td style=\"width: 10px; height: 10px; background-color: black; border: 1px solid gray;\"></td><td style=\"width: 10px; height: 10px; background-color: black; border: 1px solid gray;\"></td><td style=\"width: 10px; height: 10px; background-color: black; border: 1px solid gray;\"></td><td style=\"width: 10px; height: 10px; background-color: black; border: 1px solid gray;\"></td><td style=\"width: 10px; height: 10px; background-color: black; border: 1px solid gray;\"></td><td style=\"width: 10px; height: 10px; background-color: black; border: 1px solid gray;\"></td><td style=\"width: 10px; height: 10px; background-color: black; border: 1px solid gray;\"></td><td style=\"width: 10px; height: 10px; background-color: black; border: 1px solid gray;\"></td><td style=\"width: 10px; height: 10px; background-color: black; border: 1px solid gray;\"></td><td style=\"width: 10px; height: 10px; background-color: black; border: 1px solid gray;\"></td><td style=\"width: 10px; height: 10px; background-color: black; border: 1px solid gray;\"></td><td style=\"width: 10px; height: 10px; background-color: black; border: 1px solid gray;\"></td><td style=\"width: 10px; height: 10px; background-color: black; border: 1px solid gray;\"></td><td style=\"width: 10px; height: 10px; background-color: green; border: 1px solid gray;\"></td></tr><tr><td style=\"width: 10px; height: 10px; background-color: white; border: 1px solid gray;\"></td><td style=\"width: 10px; height: 10px; background-color: black; border: 1px solid gray;\"></td><td style=\"width: 10px; height: 10px; background-color: white; border: 1px solid gray;\"></td><td style=\"width: 10px; height: 10px; background-color: black; border: 1px solid gray;\"></td><td style=\"width: 10px; height: 10px; background-color: white; border: 1px solid gray;\"></td><td style=\"width: 10px; height: 10px; background-color: white; border: 1px solid gray;\"></td><td style=\"width: 10px; height: 10px; background-color: white; border: 1px solid gray;\"></td><td style=\"width: 10px; height: 10px; background-color: white; border: 1px solid gray;\"></td><td style=\"width: 10px; height: 10px; background-color: white; border: 1px solid gray;\"></td><td style=\"width: 10px; height: 10px; background-color: white; border: 1px solid gray;\"></td><td style=\"width: 10px; height: 10px; background-color: white; border: 1px solid gray;\"></td><td style=\"width: 10px; height: 10px; background-color: black; border: 1px solid gray;\"></td><td style=\"width: 10px; height: 10px; background-color: green; border: 1px solid gray;\"></td><td style=\"width: 10px; height: 10px; background-color: green; border: 1px solid gray;\"></td><td style=\"width: 10px; height: 10px; background-color: green; border: 1px solid gray;\"></td><td style=\"width: 10px; height: 10px; background-color: green; border: 1px solid gray;\"></td><td style=\"width: 10px; height: 10px; background-color: green; border: 1px solid gray;\"></td></tr><tr><td style=\"width: 10px; height: 10px; background-color: black; border: 1px solid gray;\"></td><td style=\"width: 10px; height: 10px; background-color: black; border: 1px solid gray;\"></td><td style=\"width: 10px; height: 10px; background-color: white; border: 1px solid gray;\"></td><td style=\"width: 10px; height: 10px; background-color: black; border: 1px solid gray;\"></td><td style=\"width: 10px; height: 10px; background-color: white; border: 1px solid gray;\"></td><td style=\"width: 10px; height: 10px; background-color: black; border: 1px solid gray;\"></td><td style=\"width: 10px; height: 10px; background-color: white; border: 1px solid gray;\"></td><td style=\"width: 10px; height: 10px; background-color: black; border: 1px solid gray;\"></td><td style=\"width: 10px; height: 10px; background-color: black; border: 1px solid gray;\"></td><td style=\"width: 10px; height: 10px; background-color: black; border: 1px solid gray;\"></td><td style=\"width: 10px; height: 10px; background-color: white; border: 1px solid gray;\"></td><td style=\"width: 10px; height: 10px; background-color: black; border: 1px solid gray;\"></td><td style=\"width: 10px; height: 10px; background-color: green; border: 1px solid gray;\"></td><td style=\"width: 10px; height: 10px; background-color: black; border: 1px solid gray;\"></td><td style=\"width: 10px; height: 10px; background-color: black; border: 1px solid gray;\"></td><td style=\"width: 10px; height: 10px; background-color: black; border: 1px solid gray;\"></td><td style=\"width: 10px; height: 10px; background-color: black; border: 1px solid gray;\"></td></tr><tr><td style=\"width: 10px; height: 10px; background-color: white; border: 1px solid gray;\"></td><td style=\"width: 10px; height: 10px; background-color: white; border: 1px solid gray;\"></td><td style=\"width: 10px; height: 10px; background-color: white; border: 1px solid gray;\"></td><td style=\"width: 10px; height: 10px; background-color: black; border: 1px solid gray;\"></td><td style=\"width: 10px; height: 10px; background-color: white; border: 1px solid gray;\"></td><td style=\"width: 10px; height: 10px; background-color: black; border: 1px solid gray;\"></td><td style=\"width: 10px; height: 10px; background-color: white; border: 1px solid gray;\"></td><td style=\"width: 10px; height: 10px; background-color: black; border: 1px solid gray;\"></td><td style=\"width: 10px; height: 10px; background-color: white; border: 1px solid gray;\"></td><td style=\"width: 10px; height: 10px; background-color: white; border: 1px solid gray;\"></td><td style=\"width: 10px; height: 10px; background-color: white; border: 1px solid gray;\"></td><td style=\"width: 10px; height: 10px; background-color: black; border: 1px solid gray;\"></td><td style=\"width: 10px; height: 10px; background-color: green; border: 1px solid gray;\"></td><td style=\"width: 10px; height: 10px; background-color: green; border: 1px solid gray;\"></td><td style=\"width: 10px; height: 10px; background-color: red; border: 1px solid gray;\"></td><td style=\"width: 10px; height: 10px; background-color: white; border: 1px solid gray;\"></td><td style=\"width: 10px; height: 10px; background-color: white; border: 1px solid gray;\"></td></tr><tr><td style=\"width: 10px; height: 10px; background-color: white; border: 1px solid gray;\"></td><td style=\"width: 10px; height: 10px; background-color: black; border: 1px solid gray;\"></td><td style=\"width: 10px; height: 10px; background-color: white; border: 1px solid gray;\"></td><td style=\"width: 10px; height: 10px; background-color: black; border: 1px solid gray;\"></td><td style=\"width: 10px; height: 10px; background-color: white; border: 1px solid gray;\"></td><td style=\"width: 10px; height: 10px; background-color: black; border: 1px solid gray;\"></td><td style=\"width: 10px; height: 10px; background-color: white; border: 1px solid gray;\"></td><td style=\"width: 10px; height: 10px; background-color: black; border: 1px solid gray;\"></td><td style=\"width: 10px; height: 10px; background-color: white; border: 1px solid gray;\"></td><td style=\"width: 10px; height: 10px; background-color: black; border: 1px solid gray;\"></td><td style=\"width: 10px; height: 10px; background-color: black; border: 1px solid gray;\"></td><td style=\"width: 10px; height: 10px; background-color: black; border: 1px solid gray;\"></td><td style=\"width: 10px; height: 10px; background-color: black; border: 1px solid gray;\"></td><td style=\"width: 10px; height: 10px; background-color: black; border: 1px solid gray;\"></td><td style=\"width: 10px; height: 10px; background-color: black; border: 1px solid gray;\"></td><td style=\"width: 10px; height: 10px; background-color: black; border: 1px solid gray;\"></td><td style=\"width: 10px; height: 10px; background-color: white; border: 1px solid gray;\"></td></tr><tr><td style=\"width: 10px; height: 10px; background-color: white; border: 1px solid gray;\"></td><td style=\"width: 10px; height: 10px; background-color: black; border: 1px solid gray;\"></td><td style=\"width: 10px; height: 10px; background-color: white; border: 1px solid gray;\"></td><td style=\"width: 10px; height: 10px; background-color: black; border: 1px solid gray;\"></td><td style=\"width: 10px; height: 10px; background-color: white; border: 1px solid gray;\"></td><td style=\"width: 10px; height: 10px; background-color: black; border: 1px solid gray;\"></td><td style=\"width: 10px; height: 10px; background-color: white; border: 1px solid gray;\"></td><td style=\"width: 10px; height: 10px; background-color: black; border: 1px solid gray;\"></td><td style=\"width: 10px; height: 10px; background-color: white; border: 1px solid gray;\"></td><td style=\"width: 10px; height: 10px; background-color: black; border: 1px solid gray;\"></td><td style=\"width: 10px; height: 10px; background-color: white; border: 1px solid gray;\"></td><td style=\"width: 10px; height: 10px; background-color: black; border: 1px solid gray;\"></td><td style=\"width: 10px; height: 10px; background-color: white; border: 1px solid gray;\"></td><td style=\"width: 10px; height: 10px; background-color: white; border: 1px solid gray;\"></td><td style=\"width: 10px; height: 10px; background-color: white; border: 1px solid gray;\"></td><td style=\"width: 10px; height: 10px; background-color: black; border: 1px solid gray;\"></td><td style=\"width: 10px; height: 10px; background-color: white; border: 1px solid gray;\"></td></tr><tr><td style=\"width: 10px; height: 10px; background-color: white; border: 1px solid gray;\"></td><td style=\"width: 10px; height: 10px; background-color: black; border: 1px solid gray;\"></td><td style=\"width: 10px; height: 10px; background-color: black; border: 1px solid gray;\"></td><td style=\"width: 10px; height: 10px; background-color: black; border: 1px solid gray;\"></td><td style=\"width: 10px; height: 10px; background-color: white; border: 1px solid gray;\"></td><td style=\"width: 10px; height: 10px; background-color: black; border: 1px solid gray;\"></td><td style=\"width: 10px; height: 10px; background-color: white; border: 1px solid gray;\"></td><td style=\"width: 10px; height: 10px; background-color: black; border: 1px solid gray;\"></td><td style=\"width: 10px; height: 10px; background-color: white; border: 1px solid gray;\"></td><td style=\"width: 10px; height: 10px; background-color: black; border: 1px solid gray;\"></td><td style=\"width: 10px; height: 10px; background-color: white; border: 1px solid gray;\"></td><td style=\"width: 10px; height: 10px; background-color: black; border: 1px solid gray;\"></td><td style=\"width: 10px; height: 10px; background-color: white; border: 1px solid gray;\"></td><td style=\"width: 10px; height: 10px; background-color: black; border: 1px solid gray;\"></td><td style=\"width: 10px; height: 10px; background-color: white; border: 1px solid gray;\"></td><td style=\"width: 10px; height: 10px; background-color: black; border: 1px solid gray;\"></td><td style=\"width: 10px; height: 10px; background-color: white; border: 1px solid gray;\"></td></tr><tr><td style=\"width: 10px; height: 10px; background-color: white; border: 1px solid gray;\"></td><td style=\"width: 10px; height: 10px; background-color: white; border: 1px solid gray;\"></td><td style=\"width: 10px; height: 10px; background-color: white; border: 1px solid gray;\"></td><td style=\"width: 10px; height: 10px; background-color: white; border: 1px solid gray;\"></td><td style=\"width: 10px; height: 10px; background-color: white; border: 1px solid gray;\"></td><td style=\"width: 10px; height: 10px; background-color: black; border: 1px solid gray;\"></td><td style=\"width: 10px; height: 10px; background-color: white; border: 1px solid gray;\"></td><td style=\"width: 10px; height: 10px; background-color: black; border: 1px solid gray;\"></td><td style=\"width: 10px; height: 10px; background-color: white; border: 1px solid gray;\"></td><td style=\"width: 10px; height: 10px; background-color: white; border: 1px solid gray;\"></td><td style=\"width: 10px; height: 10px; background-color: white; border: 1px solid gray;\"></td><td style=\"width: 10px; height: 10px; background-color: white; border: 1px solid gray;\"></td><td style=\"width: 10px; height: 10px; background-color: white; border: 1px solid gray;\"></td><td style=\"width: 10px; height: 10px; background-color: black; border: 1px solid gray;\"></td><td style=\"width: 10px; height: 10px; background-color: white; border: 1px solid gray;\"></td><td style=\"width: 10px; height: 10px; background-color: white; border: 1px solid gray;\"></td><td style=\"width: 10px; height: 10px; background-color: white; border: 1px solid gray;\"></td></tr></table>"
      ],
      "text/plain": [
       "<IPython.core.display.HTML object>"
      ]
     },
     "metadata": {},
     "output_type": "display_data"
    }
   ],
   "source": [
    "display_colored_grid(maze)"
   ]
  },
  {
   "cell_type": "markdown",
   "metadata": {},
   "source": [
    "#### To track the shortest path... through BFS:\n",
    "Take pairs of cells instead of cell, and put them in a list, after you reach the goal, start from the back of the list and connect the cells to the beginning"
   ]
  },
  {
   "cell_type": "markdown",
   "metadata": {},
   "source": [
    "#### To track a singular path from DFS:\n",
    "Do the same as BFS, but it won't give the shortest path"
   ]
  },
  {
   "cell_type": "code",
   "execution_count": null,
   "metadata": {},
   "outputs": [],
   "source": []
  },
  {
   "cell_type": "code",
   "execution_count": null,
   "metadata": {},
   "outputs": [],
   "source": []
  },
  {
   "cell_type": "code",
   "execution_count": null,
   "metadata": {},
   "outputs": [],
   "source": []
  },
  {
   "cell_type": "code",
   "execution_count": null,
   "metadata": {},
   "outputs": [],
   "source": []
  },
  {
   "cell_type": "code",
   "execution_count": null,
   "metadata": {},
   "outputs": [],
   "source": []
  }
 ],
 "metadata": {
  "colab": {
   "provenance": []
  },
  "kernelspec": {
   "display_name": "Python 3 (ipykernel)",
   "language": "python",
   "name": "python3"
  },
  "language_info": {
   "codemirror_mode": {
    "name": "ipython",
    "version": 3
   },
   "file_extension": ".py",
   "mimetype": "text/x-python",
   "name": "python",
   "nbconvert_exporter": "python",
   "pygments_lexer": "ipython3",
   "version": "3.12.4"
  }
 },
 "nbformat": 4,
 "nbformat_minor": 4
}
